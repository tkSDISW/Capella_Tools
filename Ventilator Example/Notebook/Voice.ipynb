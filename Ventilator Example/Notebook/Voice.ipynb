{
 "cells": [
  {
   "cell_type": "markdown",
   "id": "1ef8573c-f4dc-4620-973f-44cf324327e9",
   "metadata": {},
   "source": [
    "https://mindtrove.info/jupyter-tidbit-run-and-say-done/"
   ]
  },
  {
   "cell_type": "code",
   "execution_count": 1,
   "id": "673ff8c1-b123-49e5-91d9-64f9fc0e599a",
   "metadata": {
    "tags": []
   },
   "outputs": [],
   "source": [
    "def speak(text):\n",
    "    from IPython.display import Javascript as js, clear_output\n",
    "    # Escape single quotes\n",
    "    text = text.replace(\"'\", r\"\\'\")\n",
    "    display(js('''\n",
    "    if(window.speechSynthesis) {{\n",
    "        var synth = window.speechSynthesis;\n",
    "        synth.speak(new window.SpeechSynthesisUtterance('{text}'));\n",
    "    }}\n",
    "    '''.format(text=text)))\n",
    "    # Clear the JS so that the notebook doesn't speak again when reopened/refreshed\n",
    "    clear_output(False)"
   ]
  },
  {
   "cell_type": "code",
   "execution_count": 2,
   "id": "e47b1fe0-1152-4442-9a36-517ee499cfca",
   "metadata": {
    "tags": []
   },
   "outputs": [],
   "source": [
    "speak(\"hello mike how are you\")"
   ]
  },
  {
   "cell_type": "code",
   "execution_count": 3,
   "id": "fcef4d5f-9913-4eaf-bb73-86455595c0ea",
   "metadata": {},
   "outputs": [],
   "source": [
    "import studio_kernel\n",
    "from studio_kernel.plugin_interface import Language as extension"
   ]
  },
  {
   "cell_type": "code",
   "execution_count": 4,
   "id": "1d58bfa3-b667-41e4-a341-1e10f92c6969",
   "metadata": {
    "tags": []
   },
   "outputs": [],
   "source": [
    "import pandas as pd\n",
    "\n",
    "import logging\n",
    "\n",
    "import io\n",
    "\n",
    "\n",
    "class speakingExtension(extension):\n",
    "    version = 1.0\n",
    "    marker = \"say\"\n",
    "    description =\"The say extension makes Simcenter Studio speaking\"\n",
    "    \n",
    "    \n",
    "    def __init__(self, *args, **kwargs):\n",
    "        # Call the parent class's __init__ method\n",
    "        super().__init__(*args, **kwargs)\n",
    "\n",
    "        # Add your additional initialization logic here\n",
    "        logging.basicConfig(level=logging.INFO)\n",
    "        self.logger = logging.getLogger()\n",
    "        self.voice = \"mike\"\n",
    "\n",
    "    \n",
    "    def speaktext(self,text):\n",
    "        from IPython.display import Javascript as js, clear_output\n",
    "        # Escape single quotes\n",
    "        text = text.replace(\"'\", r\"\\'\")\n",
    "        display(js('''\n",
    "        if(window.speechSynthesis) {{\n",
    "            var synth = window.speechSynthesis;\n",
    "            synth.speak(new window.SpeechSynthesisUtterance('{text}'));\n",
    "        }}\n",
    "        '''.format(text=text)))\n",
    "        # Clear the JS so that the notebook doesn't speak again when reopened/refreshed\n",
    "        clear_output(False)\n",
    "    \n",
    "    \n",
    "    def run(self,cmd: Command):\n",
    "        print(cmd.args)\n",
    "        \n",
    "        if '-voice' in cmd.args[0]:  # there are no \n",
    "            print(\"found voice\")\n",
    "            self.voice = cmd.args[1]\n",
    "            self.speaktext(\"changing voice name into \"+cmd.args[1])\n",
    "        else:\n",
    "        \n",
    "            s=\"\"\n",
    "            for word in cmd.args:\n",
    "                s += \" \" + word\n",
    "            self.speaktext(s)\n",
    "\n",
    "        return self.voice # showing that the object has a state\n",
    "        \n",
    "    def setup_channels(self,channels):\n",
    "        pass"
   ]
  },
  {
   "cell_type": "code",
   "execution_count": 5,
   "id": "f575abf5-97ab-43c8-aaf1-ed6d7d1f3bee",
   "metadata": {},
   "outputs": [],
   "source": [
    "kernel = studio_kernel.kernel.get_kernel()\n",
    "kernel.plugins[\"say\"]=speakingExtension(kernel)"
   ]
  },
  {
   "cell_type": "code",
   "execution_count": 6,
   "id": "5733e1dd-0208-45be-9f44-80c92190f567",
   "metadata": {},
   "outputs": [
    {
     "name": "stdout",
     "output_type": "stream",
     "text": [
      "mike\n"
     ]
    }
   ],
   "source": [
    "%say I think it is a good day for a walk in the park"
   ]
  },
  {
   "cell_type": "code",
   "execution_count": 8,
   "id": "5efe33e2-5c57-4f1c-8bd2-857df7114a20",
   "metadata": {},
   "outputs": [
    {
     "name": "stdout",
     "output_type": "stream",
     "text": [
      "dragon\n"
     ]
    }
   ],
   "source": [
    "%say -voice dragon\n",
    "\n",
    "1+1\n",
    "print(\"efef\")"
   ]
  },
  {
   "cell_type": "code",
   "execution_count": null,
   "id": "9e7e6a1b-b54d-488f-b3b7-4987e35fa384",
   "metadata": {
    "tags": []
   },
   "outputs": [],
   "source": []
  },
  {
   "cell_type": "code",
   "execution_count": 9,
   "id": "de8f4024-2771-46b8-9ee8-2cb08d5e622f",
   "metadata": {},
   "outputs": [
    {
     "name": "stdout",
     "output_type": "stream",
     "text": [
      "dragon\n"
     ]
    }
   ],
   "source": [
    "\n",
    "%say nice little extension"
   ]
  },
  {
   "cell_type": "code",
   "execution_count": null,
   "id": "07dfd0f8-5ac5-4805-850d-98e207643c68",
   "metadata": {},
   "outputs": [],
   "source": [
    "\n"
   ]
  },
  {
   "cell_type": "code",
   "execution_count": 10,
   "id": "fb905c07-b032-45ce-8e27-84fbb2971643",
   "metadata": {},
   "outputs": [
    {
     "name": "stdout",
     "output_type": "stream",
     "text": [
      "dragon\n"
     ]
    }
   ],
   "source": [
    "%say peng"
   ]
  },
  {
   "cell_type": "code",
   "execution_count": 55,
   "id": "de4069dc-3095-4149-8b88-e07c0c974eba",
   "metadata": {},
   "outputs": [
    {
     "name": "stdout",
     "output_type": "stream",
     "text": [
      "['-voice', 'chiara']\n",
      "found voice\n",
      "chiara\n"
     ]
    }
   ],
   "source": [
    "%say -voice chiara"
   ]
  },
  {
   "cell_type": "code",
   "execution_count": 25,
   "id": "be62d4d8-7cda-4deb-a981-a9fa9f578929",
   "metadata": {},
   "outputs": [],
   "source": [
    "%say blah bla"
   ]
  },
  {
   "cell_type": "code",
   "execution_count": 8,
   "id": "ecde85cd-c0f1-453b-9b34-13e800cbd62e",
   "metadata": {},
   "outputs": [
    {
     "name": "stderr",
     "output_type": "stream",
     "text": [
      "\u001b[0;31m---------------------------------------------------------------------------\u001b[0m\n",
      "\u001b[0;31mKeyError\u001b[0m                                  Traceback (most recent call last)\n",
      "\u001b[0;31mKeyError\u001b[0m: 'tellme'"
     ]
    }
   ],
   "source": []
  },
  {
   "cell_type": "code",
   "execution_count": null,
   "id": "b61c5794-9345-4c0a-9c3c-debb6527dfff",
   "metadata": {},
   "outputs": [],
   "source": []
  }
 ],
 "metadata": {
  "kernelspec": {
   "display_name": "Studio (py)",
   "language": "py",
   "name": "studio-py"
  },
  "language_info": {
   "codemirror_mode": "py",
   "mimetype": "text/x-studio-py",
   "name": "python",
   "pygments_lexer": "studio-py"
  }
 },
 "nbformat": 4,
 "nbformat_minor": 5
}
