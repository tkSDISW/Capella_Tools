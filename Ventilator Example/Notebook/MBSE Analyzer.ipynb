{
 "cells": [
  {
   "cell_type": "markdown",
   "id": "2ef785c9-a1c0-4ad7-a185-02a1569ca072",
   "metadata": {},
   "source": [
    "# Model Based System Engineering Analyzer: \n",
    "## Leveraging AI for System Engineering models \n",
    "\n",
    "Welcome to the **MBSE Assistant Analyzer Notebook**, a powerful tool designed to augment your ability to review, comprehend, and enhance system models with AI-driven support. This notebook integrates a variety of capabilities to assist with:\n",
    "\n",
    "1. **Model Review and Comprehension**:\n",
    "   - Gain deeper insights into the structure and behavior of your system model.\n",
    "   - Use AI to clarify relationships, dependencies, and interactions within the model.\n",
    "\n",
    "2. **Impact Analysis**:\n",
    "   - Explore the potential effects of component failures on the system.\n",
    "   - Simulate scenarios to identify vulnerabilities and design improvements.\n",
    "\n",
    "3. **Simulation Generation**:\n",
    "   - Automatically generate simulations based on the model's architecture and behaviors.\n",
    "   - Use simulations for validation, testing, and demonstration purposes.\n",
    "\n",
    "4. **Failure Analysis**:\n",
    "   - Assess the system's resilience under various failure conditions.\n",
    "   - Extract meaningful insights to strengthen reliability and performance.\n",
    "\n",
    "5. **Content Extraction for Downstream Domains**:\n",
    "   - Convert model data into formats suitable for use in other engineering domains.\n",
    "   - Facilitate seamless collaboration across teams and tools.\n",
    "\n",
    "This notebook serves as a comprehensive platform to bridge the gap between system models and actionable insights, empowering architects to make informed decisions and design robust solutions. Whether you're investigating enhancements, running failure simulations, or preparing data for external domains, this assistant streamlines the process with AI-enhanced guidance.\n",
    "\n",
    "Feel free to explore and adapt the prompts and models to suit your specific use case. Let’s dive in and unlock the potential of your system model!\n"
   ]
  },
  {
   "cell_type": "markdown",
   "id": "b5acc178-1a94-4014-b1f7-13c97a9ba4ec",
   "metadata": {},
   "source": [
    "### Model-Specific Code (Do Not Modify)\n",
    "\n",
    "This section contains code that is specific to the system model. It is updated only when the model is changed and should not require user modifications under normal circumstances.\n",
    "\n",
    "If a new model is introduced, ensure this section is reviewed and updated as needed.\n"
   ]
  },
  {
   "cell_type": "code",
   "execution_count": 1,
   "id": "c7ba8743-5dac-41be-9083-d44aa0199411",
   "metadata": {
    "scrolled": true
   },
   "outputs": [
    {
     "name": "stderr",
     "output_type": "stream",
     "text": [
      "Duplicate UUID '_LB2MSY7lEeqNepwDMv-GAw' within fragment CR_Ventilator.aird\n",
      "Duplicate UUID '_LB2MS47lEeqNepwDMv-GAw' within fragment CR_Ventilator.aird\n",
      "Duplicate UUID '_LB2MTY7lEeqNepwDMv-GAw' within fragment CR_Ventilator.aird\n",
      "Duplicate UUID '_LB2MT47lEeqNepwDMv-GAw' within fragment CR_Ventilator.aird\n",
      "Duplicate UUID '_LB2MUY7lEeqNepwDMv-GAw' within fragment CR_Ventilator.aird\n",
      "Duplicate UUID '_LB2MU47lEeqNepwDMv-GAw' within fragment CR_Ventilator.aird\n",
      "Ignoring file of unknown type, loaded model may be incomplete: CR_Ventilator.traceability\n"
     ]
    }
   ],
   "source": [
    "#!pip install --upgrade git+https://github.com/tkSDISW/Capella_Tools \n",
    "import capellambse.decl\n",
    "\n",
    "from capella_tools import capellambse_helper\n",
    "\n",
    "\n",
    "from IPython import display as diag_display\n",
    "resources = {\n",
    "    \"CR_Ventilator_Sim\": \"CR_Ventilator_Sim/CR_Ventilator_Sim\",\n",
    "}\n",
    "path_to_model = \"../CR_Ventilator.aird\"\n",
    "model = capellambse.MelodyModel(path_to_model, resources=resources)\n",
    "from capella_tools import Pub4C\n",
    "traceability_store = Pub4C.Traceability_Store(\"../CR_Ventilator.traceability\")\n",
    "\n"
   ]
  },
  {
   "cell_type": "code",
   "execution_count": null,
   "id": "5f73131d-3ba3-4c6f-8418-378d418156a6",
   "metadata": {},
   "outputs": [],
   "source": []
  },
  {
   "cell_type": "markdown",
   "id": "98e07f65-caa7-4e20-9268-7c5df4783e36",
   "metadata": {},
   "source": [
    "## 🔄 Embedding Generation Process\n",
    "\n",
    "### Overview\n",
    "This section generates embeddings, which streamlines processing and analyzing the model. The embeddings provide a structured representation of the data that powers subsequent tasks and visualizations.\n",
    "\n",
    "### When is this step necessary?\n",
    "- **Initial Run:** If this notebook is being run for the first time, embeddings will need to be generated.\n",
    "- **Model Updates:** If the underlying model has been modified, regenerating embeddings ensures the data remains accurate and up-to-date.\n",
    "\n",
    "### Important Notes\n",
    "- **Duration:** This process may take **a minute or more** to complete, depending on the size and complexity of the model.\n",
    "- **Output:** Upon completion, embeddings will be ready for use in subsequent sections of the notebook.\n",
    "\n",
    "### Instructions\n",
    "1. Ensure the required model is loaded.\n",
    "2. Run the cell below to initiate the embedding generation process.\n",
    "3. Wait for the process to complete before proceeding.\n",
    "\n",
    "> 💡 **Tip:** You can monitor progress in the notebook's output cell. If any errors occur, check that the model is properly configured and accessible.\n",
    "\n",
    "---\n",
    "\n",
    "> ⚠️ **Warning:** Interrupting this step may result in incomplete or invalid embeddings. If interrupted, re-run the cell to restart the process.\n",
    "\n",
    "---\n",
    "\n",
    "Continue to the next cell to generate embeddings. 🚀\n"
   ]
  },
  {
   "cell_type": "code",
   "execution_count": 2,
   "id": "2c54cb77-76e8-4309-90e0-7da1d2a2d9f8",
   "metadata": {},
   "outputs": [
    {
     "name": "stdout",
     "output_type": "stream",
     "text": [
      "✅ EmbeddingManager initialized\n",
      "🔐 API Key: Loaded from secrets\n",
      "🌐 Base URL: https://api.openai.com/v1\n",
      "🤖 Model: gpt-4o\n",
      "Loading embeddings\n",
      "embeddings loaded.\n"
     ]
    }
   ],
   "source": [
    "\n",
    "from capella_tools  import capella_embeddings_manager\n",
    "\n",
    "# Generate embeddings for all objects\n",
    "model_embedding_manager = capella_embeddings_manager.EmbeddingManager()\n",
    "\n",
    "embedding_file = \"embeddings.json\" \n",
    "model_embedding_manager.set_files( path_to_model , embedding_file)\n",
    "\n",
    "model_embedding_manager.create_model_embeddings(model)"
   ]
  },
  {
   "cell_type": "markdown",
   "id": "f671a45d-5335-463c-802a-156296f21ad4",
   "metadata": {},
   "source": [
    "## 🎯 Prompt for System Model Element Analysis\n",
    "\n",
    "### Purpose\n",
    "This cell accepts a prompt to identify and isolate the specific object(s) to be analyzed. Providing detailed and accurate information in the prompt will ensure the best performance during the analysis.\n",
    "\n",
    "### What to Include in Your Prompt\n",
    "For optimal results, specify the following details about the object(s):\n",
    "1. **Type of ARCADIA Object:** Clearly state the type of the object (e.g., Logical Component, Physical Component, Functional Exchange).\n",
    "2. **Name of the Object:** Provide the exact name of the object as defined in the model.\n",
    "3. **ARCADIA Phase:** Specify the phase associated with the object (e.g., Operational Analysis, System Analysis, Logical Architecture, Physical Architecture).\n",
    "4. **Related Objects:** Identify any objects connected via exchanges or dependencies.\n",
    "\n",
    "### Example Prompt\n",
    "Locate the Logical Component named Brake Pedal in the Logical phase and has a Driver supplying input.\n",
    "### ✅ Tips for Success\n",
    "- **Use precise terminology:** Ensure your prompt aligns with the model's structure and terminology.\n",
    "- **Include related objects:** Whenever possible, specify related objects to enhance context and improve analysis accuracy.\n",
    "- **Double-check details:** Verify object names and phases to ensure they match the model exactly.\n",
    "'''\n",
    "\n",
    "### 🚀 Next Steps\n",
    "1. Run the cell below.\n",
    "2. Enter your prompt, providing the necessary details as outlined above.\n",
    "3. Wait for the analysis to complete.\n",
    "4. Select the best index or indexes for analysis. (The last selection will drive selection of a prompt.)\n",
    "\n",
    "> 💡 **Tip:** If you're unsure about the model structure, review the documentation or refer to the model's diagrams for additional guidance.\n"
   ]
  },
  {
   "cell_type": "code",
   "execution_count": 3,
   "id": "31298768-f6da-4f27-9c76-50d02b7a0fe7",
   "metadata": {},
   "outputs": [
    {
     "name": "stdout",
     "output_type": "stream",
     "text": [
      "\n",
      "This is a list of ranked Objects Based on Query:\n",
      "Index: 0, Name: O2 Valve, Similarity: 0.75, Type: LogicalComponent, Phase: Logical Architecture LA, Source: , Target: \n",
      "Index: 1, Name: Control O2 to Valve, Similarity: 0.71, Type: LogicalFunction, Phase: Logical Architecture LA, Source: , Target: \n",
      "Index: 2, Name: O2 Control, Similarity: 0.60, Type: FunctionalExchange, Phase: Physical Architecture PA, Source: Deliver PSV Mode, Target: Select 8\n"
     ]
    }
   ],
   "source": [
    "\n",
    "selected_objects = model_embedding_manager.query_and_select_top_objects(\"O2 Valve Logical Phase\", top_n=3)\n"
   ]
  },
  {
   "cell_type": "markdown",
   "id": "2dd4a6ad-39a9-4bc3-ae26-5d97c5fe394b",
   "metadata": {},
   "source": [
    "\n",
    "\n",
    "\n",
    "\n",
    "## 📝 Generate Structured Input File \n",
    "\n",
    "### Purpose\n",
    "This cell generates a structured structured input file, `capella_model.yaml`, which serves as input for prompts tailored to the object type of the last selected item. This ensures that the prompt aligns with the model's structure and provides accurate context for analysis.\n",
    "\n",
    "### What This Cell Does\n",
    "- Extracts data related to the elements selected.\n",
    "- Structures the data into a YAML format.\n",
    "- Saves the YAML file as `capella_model.yaml` for further use.\n",
    "\n",
    "### Key Features\n",
    "- The YAML file includes:\n",
    "  - **Object Type:** The type of the element.\n",
    "  - **Object Details:** Attributes, relationships, and associated exchanges.\n",
    "  - **Structured Input:** Designed to enhance prompt accuracy and model analysis.\n",
    "\n",
    "### Instructions\n",
    "1. Run this cell to create the `capella_model.yaml` file.\n",
    "2. Ensure the last selected item is correctly identified to avoid mismatched data.\n",
    "3. Use the generated YAML file as structured input for tailored prompts in subsequent steps.\n",
    "\n",
    "### Notes\n",
    "- The file will be saved in the current working directory.\n",
    "- If the selected object changes, re-run this cell to update the YAML file.\n",
    "\n",
    "> 💡 **Tip:** Review the contents of `capella_model.yaml` if needed to ensure accuracy and completeness.\n"
   ]
  },
  {
   "cell_type": "code",
   "execution_count": 4,
   "id": "4db8d5ea-0e49-4098-aedc-0914d956f286",
   "metadata": {},
   "outputs": [],
   "source": [
    "#Workflow\n",
    "from capella_tools import capellambse_yaml_manager\n",
    "yaml_handler = capellambse_yaml_manager.CapellaYAMLHandler()\n",
    "   \n",
    "#Generate YAML for the logical component and append to the file\n",
    "for object in  selected_objects : \n",
    "    yaml_handler.generate_yaml(model.by_uuid(object[\"uuid\"]))  \n",
    "\n",
    "yaml_handler.generate_traceability_related_objects(model,traceability_store)\n",
    "\n",
    "#yaml_handler.display()\n",
    "yaml_handler.generate_yaml_referenced_objects()\n",
    "#yaml_handler.display()\n",
    "\n",
    "yaml_handler.write_output_file()\n"
   ]
  },
  {
   "cell_type": "markdown",
   "id": "1113cb97-36e1-46b4-aec7-9713aea09a64",
   "metadata": {},
   "source": [
    "## 🖼️ Generate Contextual Diagram\n",
    "\n",
    "### Purpose\n",
    "This cell generates a **contextual diagram** for the selected object. The diagram visually represents the object's relationships and interactions, providing a clear and comprehensive view of its context within the model.\n",
    "\n",
    "### Supported Object Types\n",
    "This functionality works the following ARCADIA elements, including:\n",
    "- **Functions**\n",
    "- **Activities**\n",
    "- **Components**\n",
    "- **Entities**\n",
    "- **Exchanges and Interactions**\n",
    "- **Physical Links**\n",
    "\n",
    "### What This Cell Does\n",
    "- Identifies the selected object.\n",
    "- Extracts relevant relationships, exchanges, and dependencies.\n",
    "- Creates a contextual diagram based on the object's type and its connections.\n",
    "\n",
    "### Instructions\n",
    "1. Ensure the object is correctly selected in the previous step.\n",
    "2. Run this cell to generate the contextual diagram.\n",
    "3. Review the output to verify accuracy and completeness.\n",
    "\n",
    "### Key Benefits\n",
    "- **Clarity:** Visualizes how the selected object interacts with other model elements.\n",
    "- **Versatility:** Works seamlessly across ARCADIA functions, activities, components, and entities.\n",
    "- **Actionable Insight:** Helps identify key dependencies and relationships for analysis.\n",
    "\n",
    "### Notes\n",
    "- The diagram will be displayed below upon completion.\n",
    "- If the selected object changes, re-run this cell to update the contextual\n"
   ]
  },
  {
   "cell_type": "code",
   "execution_count": 5,
   "id": "6679d117-2c29-4dc1-9eac-b14e602b1cee",
   "metadata": {},
   "outputs": [
    {
     "data": {
      "image/png": "[encoded data removed]",
      "image/svg+xml": [
       "<svg baseProfile=\"full\" class=\"LogicalArchitectureBlank\" font-family=\"'Open Sans','Segoe UI',Arial,sans-serif\" font-size=\"10px\" height=\"130\" shape-rendering=\"geometricPrecision\" version=\"1.1\" viewBox=\"2 2 384 130\" width=\"384\" xmlns=\"http://www.w3.org/2000/svg\" xmlns:ev=\"http://www.w3.org/2001/xml-events\" xmlns:xlink=\"http://www.w3.org/1999/xlink\"><defs><symbol id=\"LogicalComponentSymbol\" stroke=\"#000\" stroke-width=\"2\" viewBox=\"0 0 79 79\"><path d=\"M18 237h46v43H18z\" fill=\"#dbe6f4\" transform=\"translate(0 -218)\" /><path d=\"M12 247h11v8H12z\" fill=\"#dbe6f4\" transform=\"translate(0 -218)\" /><path d=\"M12 261h11v8H12z\" fill=\"#dbe6f4\" transform=\"translate(0 -218)\" /><g transform=\"scale(0.90705135,1.1024734)\"><path d=\"m 37.427456,20.821353 h 4.221475 V 50.90971 H 37.427456 Z M 39.538194,46.89517 H 56.75519 v 4.01454 H 39.538194 Z\" fill=\"#000\" stroke-width=\"0.1\" /></g></symbol><linearGradient id=\"CustomGradient_C3E6FF_96B1DA\" x1=\"0\" x2=\"0\" y1=\"0\" y2=\"1\"><stop offset=\"0.0\" stop-color=\"#C3E6FF\" stop-opacity=\"1\" /><stop offset=\"1.0\" stop-color=\"#96B1DA\" stop-opacity=\"1\" /></linearGradient><symbol id=\"LogicalHumanActorSymbol\" stroke=\"#000\" stroke-width=\"2\" viewBox=\"0 0 79 79\"><use transform=\"matrix(0.81762456,0,0,0.81762456,-2.5207584,0.47091696)\" xlink:href=\"#StickFigureSymbol\" /></symbol><symbol id=\"StickFigureSymbol\" stroke=\"#000\" stroke-width=\"2\" viewBox=\"362.861 210.892 75 75\"><g stroke=\"#000\" stroke-width=\"2.4944\" transform=\"matrix(1.0611338,0,0,1.0611338,-24.47665,-12.241673)\"><line fill=\"none\" x1=\"400.362\" x2=\"400.362\" y1=\"232.586\" y2=\"257.534\" /><line fill=\"none\" x1=\"400.83401\" x2=\"388.423\" y1=\"254.299\" y2=\"275.009\" /><line fill=\"none\" x1=\"400.25201\" x2=\"413.97\" y1=\"254.46001\" y2=\"274.987\" /><line fill=\"none\" x1=\"385.634\" x2=\"415.703\" y1=\"244.569\" y2=\"244.49699\" /><ellipse cx=\"400.53201\" cy=\"223.35899\" fill=\"none\" rx=\"9.2180004\" ry=\"8.5080004\" /></g></symbol></defs><rect fill=\"#fff\" height=\"130\" stroke=\"none\" width=\"384\" x=\"2\" y=\"2\" /><g class=\"Box LogicalComponent context-459dc000-2d77-4325-8df0-ebfa6fbbfaf9 context-7dfe0cb8-0bd7-4a3d-bbe3-a6fd0f2d0b6d context-__Derived-CP_INOUT:-1 context-__Derived-CP_INOUT:-2 context-__Derived-CP_INOUT:-3 context-__Derived-CP_INOUT:1 context-__Derived-CP_INOUT:2 context-__Derived-CP_INOUT:3 context-__Derived-ComponentExchange:1 context-__Derived-ComponentExchange:2 context-__Derived-ComponentExchange:3 context-__Derived-LogicalComponent:16193167-a2cd-4dc4-a7b3-ab761302df6c context-__Derived-LogicalComponent:8d3b2451-d32f-41bc-ad2c-311f0477cea0 context-__Derived-LogicalHumanActor:d9da8a16-5867-4a29-a368-48a5d7f06e9b\" id=\"7dfe0cb8-0bd7-4a3d-bbe3-a6fd0f2d0b6d\"><rect class=\"LogicalComponent\" fill=\"url(&quot;#CustomGradient_C3E6FF_96B1DA&quot;)\" height=\"100\" stroke=\"#4A4A97\" stroke-width=\"1\" width=\"109\" x=\"144.5\" y=\"22.5\" /><text class=\"LogicalComponent\" dominant-baseline=\"middle\" fill=\"#4A4A97\" text-anchor=\"middle\" x=\"158\" y=\"27\"><tspan x=\"209.0\" xml:space=\"preserve\" y=\"35.714285714285715\">Ventilator</tspan></text><use height=\"20\" width=\"20\" x=\"167.0\" xlink:href=\"#LogicalComponentSymbol\" y=\"25.714285714285715\" /></g><g class=\"Box LogicalComponent context-459dc000-2d77-4325-8df0-ebfa6fbbfaf9 context-7dfe0cb8-0bd7-4a3d-bbe3-a6fd0f2d0b6d context-__Derived-CP_INOUT:-1 context-__Derived-CP_INOUT:-2 context-__Derived-CP_INOUT:-3 context-__Derived-CP_INOUT:1 context-__Derived-CP_INOUT:2 context-__Derived-CP_INOUT:3 context-__Derived-ComponentExchange:1 context-__Derived-ComponentExchange:2 context-__Derived-ComponentExchange:3 context-__Derived-LogicalComponent:16193167-a2cd-4dc4-a7b3-ab761302df6c context-__Derived-LogicalComponent:8d3b2451-d32f-41bc-ad2c-311f0477cea0 context-__Derived-LogicalHumanActor:d9da8a16-5867-4a29-a368-48a5d7f06e9b\" id=\"459dc000-2d77-4325-8df0-ebfa6fbbfaf9\"><rect class=\"LogicalComponent\" fill=\"url(&quot;#CustomGradient_C3E6FF_96B1DA&quot;)\" height=\"57\" stroke=\"#4A4A97\" stroke-width=\"4\" width=\"81\" x=\"158.5\" y=\"52.5\" /><text class=\"LogicalComponent\" dominant-baseline=\"middle\" fill=\"#4A4A97\" text-anchor=\"middle\" x=\"161\" y=\"74\"><tspan x=\"209.0\" xml:space=\"preserve\" y=\"80.71428571428571\">O2 Valve</tspan></text><use height=\"20\" width=\"20\" x=\"169.5\" xlink:href=\"#LogicalComponentSymbol\" y=\"70.71428571428571\" /></g><g class=\"Box LogicalHumanActor context-459dc000-2d77-4325-8df0-ebfa6fbbfaf9 context-7dfe0cb8-0bd7-4a3d-bbe3-a6fd0f2d0b6d context-__Derived-CP_INOUT:-1 context-__Derived-CP_INOUT:-2 context-__Derived-CP_INOUT:-3 context-__Derived-CP_INOUT:1 context-__Derived-CP_INOUT:2 context-__Derived-CP_INOUT:3 context-__Derived-ComponentExchange:1 context-__Derived-ComponentExchange:2 context-__Derived-ComponentExchange:3 context-__Derived-LogicalComponent:16193167-a2cd-4dc4-a7b3-ab761302df6c context-__Derived-LogicalComponent:8d3b2451-d32f-41bc-ad2c-311f0477cea0 context-__Derived-LogicalHumanActor:d9da8a16-5867-4a29-a368-48a5d7f06e9b\" id=\"d9da8a16-5867-4a29-a368-48a5d7f06e9b\"><rect class=\"LogicalHumanActor\" fill=\"url(&quot;#CustomGradient_C3E6FF_96B1DA&quot;)\" height=\"37\" stroke=\"#4A4A97\" stroke-dasharray=\"4\" stroke-width=\"1\" width=\"104\" x=\"13.5\" y=\"74.5\" /><text class=\"LogicalHumanActor\" dominant-baseline=\"middle\" fill=\"#4A4A97\" text-anchor=\"middle\" x=\"12\" y=\"86\"><tspan x=\"71.5\" xml:space=\"preserve\" y=\"92.71428571428571\">Environment</tspan></text><use height=\"20\" width=\"20\" x=\"22.0\" xlink:href=\"#LogicalHumanActorSymbol\" y=\"82.71428571428571\" /></g><g class=\"Box LogicalComponent context-459dc000-2d77-4325-8df0-ebfa6fbbfaf9 context-7dfe0cb8-0bd7-4a3d-bbe3-a6fd0f2d0b6d context-__Derived-CP_INOUT:-1 context-__Derived-CP_INOUT:-2 context-__Derived-CP_INOUT:-3 context-__Derived-CP_INOUT:1 context-__Derived-CP_INOUT:2 context-__Derived-CP_INOUT:3 context-__Derived-ComponentExchange:1 context-__Derived-ComponentExchange:2 context-__Derived-ComponentExchange:3 context-__Derived-LogicalComponent:16193167-a2cd-4dc4-a7b3-ab761302df6c context-__Derived-LogicalComponent:8d3b2451-d32f-41bc-ad2c-311f0477cea0 context-__Derived-LogicalHumanActor:d9da8a16-5867-4a29-a368-48a5d7f06e9b\" id=\"8d3b2451-d32f-41bc-ad2c-311f0477cea0\"><rect class=\"LogicalComponent\" fill=\"url(&quot;#CustomGradient_C3E6FF_96B1DA&quot;)\" height=\"37\" stroke=\"#4A4A97\" stroke-dasharray=\"4\" stroke-width=\"1\" width=\"95\" x=\"280.5\" y=\"62.5\" /><text class=\"LogicalComponent\" dominant-baseline=\"middle\" fill=\"#4A4A97\" text-anchor=\"middle\" x=\"287\" y=\"74\"><tspan x=\"342.0\" xml:space=\"preserve\" y=\"80.71428571428571\">Control SW</tspan></text><use height=\"20\" width=\"20\" x=\"296.5\" xlink:href=\"#LogicalComponentSymbol\" y=\"70.71428571428571\" /></g><g class=\"Box LogicalComponent context-459dc000-2d77-4325-8df0-ebfa6fbbfaf9 context-7dfe0cb8-0bd7-4a3d-bbe3-a6fd0f2d0b6d context-__Derived-CP_INOUT:-1 context-__Derived-CP_INOUT:-2 context-__Derived-CP_INOUT:-3 context-__Derived-CP_INOUT:1 context-__Derived-CP_INOUT:2 context-__Derived-CP_INOUT:3 context-__Derived-ComponentExchange:1 context-__Derived-ComponentExchange:2 context-__Derived-ComponentExchange:3 context-__Derived-LogicalComponent:16193167-a2cd-4dc4-a7b3-ab761302df6c context-__Derived-LogicalComponent:8d3b2451-d32f-41bc-ad2c-311f0477cea0 context-__Derived-LogicalHumanActor:d9da8a16-5867-4a29-a368-48a5d7f06e9b\" id=\"16193167-a2cd-4dc4-a7b3-ab761302df6c\"><rect class=\"LogicalComponent\" fill=\"url(&quot;#CustomGradient_C3E6FF_96B1DA&quot;)\" height=\"42\" stroke=\"#4A4A97\" stroke-dasharray=\"4\" stroke-width=\"1\" width=\"79\" x=\"38.5\" y=\"12.5\" /><text class=\"LogicalComponent\" dominant-baseline=\"middle\" fill=\"#4A4A97\" text-anchor=\"middle\" x=\"37\" y=\"24\"><tspan x=\"84.0\" xml:space=\"preserve\" y=\"32.85714285714286\">Housing</tspan></text><use height=\"20\" width=\"20\" x=\"45.5\" xlink:href=\"#LogicalComponentSymbol\" y=\"22.85714285714286\" /></g><g class=\"Edge ComponentExchange context-459dc000-2d77-4325-8df0-ebfa6fbbfaf9 context-7dfe0cb8-0bd7-4a3d-bbe3-a6fd0f2d0b6d context-__Derived-CP_INOUT:-1 context-__Derived-CP_INOUT:-2 context-__Derived-CP_INOUT:-3 context-__Derived-CP_INOUT:1 context-__Derived-CP_INOUT:2 context-__Derived-CP_INOUT:3 context-__Derived-ComponentExchange:1 context-__Derived-ComponentExchange:2 context-__Derived-ComponentExchange:3 context-__Derived-LogicalComponent:16193167-a2cd-4dc4-a7b3-ab761302df6c context-__Derived-LogicalComponent:8d3b2451-d32f-41bc-ad2c-311f0477cea0 context-__Derived-LogicalHumanActor:d9da8a16-5867-4a29-a368-48a5d7f06e9b\" id=\"__Derived-ComponentExchange:1\"><path class=\"Edge\" d=\"M 119.5 92.5 156.5 92.5\" fill=\"none\" stroke=\"#4A4A97\" stroke-dasharray=\"4\" stroke-width=\"2\" /></g><g class=\"Edge ComponentExchange context-459dc000-2d77-4325-8df0-ebfa6fbbfaf9 context-7dfe0cb8-0bd7-4a3d-bbe3-a6fd0f2d0b6d context-__Derived-CP_INOUT:-1 context-__Derived-CP_INOUT:-2 context-__Derived-CP_INOUT:-3 context-__Derived-CP_INOUT:1 context-__Derived-CP_INOUT:2 context-__Derived-CP_INOUT:3 context-__Derived-ComponentExchange:1 context-__Derived-ComponentExchange:2 context-__Derived-ComponentExchange:3 context-__Derived-LogicalComponent:16193167-a2cd-4dc4-a7b3-ab761302df6c context-__Derived-LogicalComponent:8d3b2451-d32f-41bc-ad2c-311f0477cea0 context-__Derived-LogicalHumanActor:d9da8a16-5867-4a29-a368-48a5d7f06e9b\" id=\"__Derived-ComponentExchange:2\"><path class=\"Edge\" d=\"M 241.5 81.5 278.5 81.5\" fill=\"none\" stroke=\"#4A4A97\" stroke-dasharray=\"4\" stroke-width=\"2\" /></g><g class=\"Edge ComponentExchange context-459dc000-2d77-4325-8df0-ebfa6fbbfaf9 context-7dfe0cb8-0bd7-4a3d-bbe3-a6fd0f2d0b6d context-__Derived-CP_INOUT:-1 context-__Derived-CP_INOUT:-2 context-__Derived-CP_INOUT:-3 context-__Derived-CP_INOUT:1 context-__Derived-CP_INOUT:2 context-__Derived-CP_INOUT:3 context-__Derived-ComponentExchange:1 context-__Derived-ComponentExchange:2 context-__Derived-ComponentExchange:3 context-__Derived-LogicalComponent:16193167-a2cd-4dc4-a7b3-ab761302df6c context-__Derived-LogicalComponent:8d3b2451-d32f-41bc-ad2c-311f0477cea0 context-__Derived-LogicalHumanActor:d9da8a16-5867-4a29-a368-48a5d7f06e9b\" id=\"__Derived-ComponentExchange:3\"><path class=\"Edge\" d=\"M 119.5 33.5 129.5 33.5 129.5 70.5 156.5 70.5\" fill=\"none\" stroke=\"#4A4A97\" stroke-dasharray=\"4\" stroke-width=\"2\" /></g><g class=\"Box CP_INOUT context-459dc000-2d77-4325-8df0-ebfa6fbbfaf9 context-7dfe0cb8-0bd7-4a3d-bbe3-a6fd0f2d0b6d context-__Derived-CP_INOUT:-1 context-__Derived-CP_INOUT:-2 context-__Derived-CP_INOUT:-3 context-__Derived-CP_INOUT:1 context-__Derived-CP_INOUT:2 context-__Derived-CP_INOUT:3 context-__Derived-ComponentExchange:1 context-__Derived-ComponentExchange:2 context-__Derived-ComponentExchange:3 context-__Derived-LogicalComponent:16193167-a2cd-4dc4-a7b3-ab761302df6c context-__Derived-LogicalComponent:8d3b2451-d32f-41bc-ad2c-311f0477cea0 context-__Derived-LogicalHumanActor:d9da8a16-5867-4a29-a368-48a5d7f06e9b\" id=\"-1\"><rect class=\"CP_INOUT\" fill=\"#FFFFFF\" height=\"10\" stroke=\"#000000\" stroke-dasharray=\"4\" stroke-width=\"1\" transform=\"rotate(90 161.5 92.5)\" width=\"10\" x=\"156.5\" y=\"87.5\" /></g><g class=\"Box CP_INOUT context-459dc000-2d77-4325-8df0-ebfa6fbbfaf9 context-7dfe0cb8-0bd7-4a3d-bbe3-a6fd0f2d0b6d context-__Derived-CP_INOUT:-1 context-__Derived-CP_INOUT:-2 context-__Derived-CP_INOUT:-3 context-__Derived-CP_INOUT:1 context-__Derived-CP_INOUT:2 context-__Derived-CP_INOUT:3 context-__Derived-ComponentExchange:1 context-__Derived-ComponentExchange:2 context-__Derived-ComponentExchange:3 context-__Derived-LogicalComponent:16193167-a2cd-4dc4-a7b3-ab761302df6c context-__Derived-LogicalComponent:8d3b2451-d32f-41bc-ad2c-311f0477cea0 context-__Derived-LogicalHumanActor:d9da8a16-5867-4a29-a368-48a5d7f06e9b\" id=\"-2\"><rect class=\"CP_INOUT\" fill=\"#FFFFFF\" height=\"10\" stroke=\"#000000\" stroke-dasharray=\"4\" stroke-width=\"1\" transform=\"rotate(-90 236.5 81.5)\" width=\"10\" x=\"231.5\" y=\"76.5\" /></g><g class=\"Box CP_INOUT context-459dc000-2d77-4325-8df0-ebfa6fbbfaf9 context-7dfe0cb8-0bd7-4a3d-bbe3-a6fd0f2d0b6d context-__Derived-CP_INOUT:-1 context-__Derived-CP_INOUT:-2 context-__Derived-CP_INOUT:-3 context-__Derived-CP_INOUT:1 context-__Derived-CP_INOUT:2 context-__Derived-CP_INOUT:3 context-__Derived-ComponentExchange:1 context-__Derived-ComponentExchange:2 context-__Derived-ComponentExchange:3 context-__Derived-LogicalComponent:16193167-a2cd-4dc4-a7b3-ab761302df6c context-__Derived-LogicalComponent:8d3b2451-d32f-41bc-ad2c-311f0477cea0 context-__Derived-LogicalHumanActor:d9da8a16-5867-4a29-a368-48a5d7f06e9b\" id=\"-3\"><rect class=\"CP_INOUT\" fill=\"#FFFFFF\" height=\"10\" stroke=\"#000000\" stroke-dasharray=\"4\" stroke-width=\"1\" transform=\"rotate(90 161.5 70.5)\" width=\"10\" x=\"156.5\" y=\"65.5\" /></g><g class=\"Box CP_INOUT context-459dc000-2d77-4325-8df0-ebfa6fbbfaf9 context-7dfe0cb8-0bd7-4a3d-bbe3-a6fd0f2d0b6d context-__Derived-CP_INOUT:-1 context-__Derived-CP_INOUT:-2 context-__Derived-CP_INOUT:-3 context-__Derived-CP_INOUT:1 context-__Derived-CP_INOUT:2 context-__Derived-CP_INOUT:3 context-__Derived-ComponentExchange:1 context-__Derived-ComponentExchange:2 context-__Derived-ComponentExchange:3 context-__Derived-LogicalComponent:16193167-a2cd-4dc4-a7b3-ab761302df6c context-__Derived-LogicalComponent:8d3b2451-d32f-41bc-ad2c-311f0477cea0 context-__Derived-LogicalHumanActor:d9da8a16-5867-4a29-a368-48a5d7f06e9b\" id=\"1\"><rect class=\"CP_INOUT\" fill=\"#FFFFFF\" height=\"10\" stroke=\"#000000\" stroke-dasharray=\"4\" stroke-width=\"1\" transform=\"rotate(-90 114.5 92.5)\" width=\"10\" x=\"109.5\" y=\"87.5\" /></g><g class=\"Box CP_INOUT context-459dc000-2d77-4325-8df0-ebfa6fbbfaf9 context-7dfe0cb8-0bd7-4a3d-bbe3-a6fd0f2d0b6d context-__Derived-CP_INOUT:-1 context-__Derived-CP_INOUT:-2 context-__Derived-CP_INOUT:-3 context-__Derived-CP_INOUT:1 context-__Derived-CP_INOUT:2 context-__Derived-CP_INOUT:3 context-__Derived-ComponentExchange:1 context-__Derived-ComponentExchange:2 context-__Derived-ComponentExchange:3 context-__Derived-LogicalComponent:16193167-a2cd-4dc4-a7b3-ab761302df6c context-__Derived-LogicalComponent:8d3b2451-d32f-41bc-ad2c-311f0477cea0 context-__Derived-LogicalHumanActor:d9da8a16-5867-4a29-a368-48a5d7f06e9b\" id=\"2\"><rect class=\"CP_INOUT\" fill=\"#FFFFFF\" height=\"10\" stroke=\"#000000\" stroke-dasharray=\"4\" stroke-width=\"1\" transform=\"rotate(90 283.5 81.5)\" width=\"10\" x=\"278.5\" y=\"76.5\" /></g><g class=\"Box CP_INOUT context-459dc000-2d77-4325-8df0-ebfa6fbbfaf9 context-7dfe0cb8-0bd7-4a3d-bbe3-a6fd0f2d0b6d context-__Derived-CP_INOUT:-1 context-__Derived-CP_INOUT:-2 context-__Derived-CP_INOUT:-3 context-__Derived-CP_INOUT:1 context-__Derived-CP_INOUT:2 context-__Derived-CP_INOUT:3 context-__Derived-ComponentExchange:1 context-__Derived-ComponentExchange:2 context-__Derived-ComponentExchange:3 context-__Derived-LogicalComponent:16193167-a2cd-4dc4-a7b3-ab761302df6c context-__Derived-LogicalComponent:8d3b2451-d32f-41bc-ad2c-311f0477cea0 context-__Derived-LogicalHumanActor:d9da8a16-5867-4a29-a368-48a5d7f06e9b\" id=\"3\"><rect class=\"CP_INOUT\" fill=\"#FFFFFF\" height=\"10\" stroke=\"#000000\" stroke-dasharray=\"4\" stroke-width=\"1\" transform=\"rotate(-90 114.5 33.5)\" width=\"10\" x=\"109.5\" y=\"28.5\" /></g></svg>"
      ],
      "text/plain": [
       "<Diagram 'Context of O2 Valve'>"
      ]
     },
     "metadata": {},
     "output_type": "display_data"
    },
    {
     "data": {
      "image/png": "[encoded data removed]",
      "image/svg+xml": [
       "<svg baseProfile=\"full\" class=\"LogicalArchitectureBlank\" font-family=\"'Open Sans','Segoe UI',Arial,sans-serif\" font-size=\"10px\" height=\"250\" shape-rendering=\"geometricPrecision\" version=\"1.1\" viewBox=\"2 2 982 250\" width=\"982\" xmlns=\"http://www.w3.org/2000/svg\" xmlns:ev=\"http://www.w3.org/2001/xml-events\" xmlns:xlink=\"http://www.w3.org/1999/xlink\"><defs><symbol id=\"LogicalHumanActorSymbol\" stroke=\"#000\" stroke-width=\"2\" viewBox=\"0 0 79 79\"><use transform=\"matrix(0.81762456,0,0,0.81762456,-2.5207584,0.47091696)\" xlink:href=\"#StickFigureSymbol\" /></symbol><symbol id=\"StickFigureSymbol\" stroke=\"#000\" stroke-width=\"2\" viewBox=\"362.861 210.892 75 75\"><g stroke=\"#000\" stroke-width=\"2.4944\" transform=\"matrix(1.0611338,0,0,1.0611338,-24.47665,-12.241673)\"><line fill=\"none\" x1=\"400.362\" x2=\"400.362\" y1=\"232.586\" y2=\"257.534\" /><line fill=\"none\" x1=\"400.83401\" x2=\"388.423\" y1=\"254.299\" y2=\"275.009\" /><line fill=\"none\" x1=\"400.25201\" x2=\"413.97\" y1=\"254.46001\" y2=\"274.987\" /><line fill=\"none\" x1=\"385.634\" x2=\"415.703\" y1=\"244.569\" y2=\"244.49699\" /><ellipse cx=\"400.53201\" cy=\"223.35899\" fill=\"none\" rx=\"9.2180004\" ry=\"8.5080004\" /></g></symbol><linearGradient id=\"CustomGradient_C3E6FF_96B1DA\" x1=\"0\" x2=\"0\" y1=\"0\" y2=\"1\"><stop offset=\"0.0\" stop-color=\"#C3E6FF\" stop-opacity=\"1\" /><stop offset=\"1.0\" stop-color=\"#96B1DA\" stop-opacity=\"1\" /></linearGradient><symbol id=\"LogicalFunctionSymbol\" viewBox=\"0 0 79 79\"><linearGradient id=\"LF_green\" x1=\"0\" x2=\"1\" y1=\"0\" y2=\"0\"><stop offset=\"0.0\" stop-color=\"#6CB35B\" stop-opacity=\"1\" /><stop offset=\"1.0\" stop-color=\"#ffffff\" stop-opacity=\"1\" /></linearGradient><ellipse cx=\"39.5\" cy=\"39.5\" fill=\"url(#LF_green)\" rx=\"26\" ry=\"21\" stroke=\"#000\" stroke-width=\"2\" /><text fill=\"#000\" font-family=\"'Open Sans','Segoe UI',Arial,sans-serif\" font-size=\"25px\" font-weight=\"bold\" stroke=\"none\" text-anchor=\"middle\" x=\"40\" y=\"50\">LF</text></symbol><symbol id=\"LogicalComponentSymbol\" stroke=\"#000\" stroke-width=\"2\" viewBox=\"0 0 79 79\"><path d=\"M18 237h46v43H18z\" fill=\"#dbe6f4\" transform=\"translate(0 -218)\" /><path d=\"M12 247h11v8H12z\" fill=\"#dbe6f4\" transform=\"translate(0 -218)\" /><path d=\"M12 261h11v8H12z\" fill=\"#dbe6f4\" transform=\"translate(0 -218)\" /><g transform=\"scale(0.90705135,1.1024734)\"><path d=\"m 37.427456,20.821353 h 4.221475 V 50.90971 H 37.427456 Z M 39.538194,46.89517 H 56.75519 v 4.01454 H 39.538194 Z\" fill=\"#000\" stroke-width=\"0.1\" /></g></symbol><symbol id=\"FunctionalExchangeSymbol\" viewBox=\"0 0 40 30\"><linearGradient id=\"FunctionalExchangeSymbol-gradient\" x1=\"0\" x2=\"1\" y1=\"0\" y2=\"1\"><stop offset=\"0.0\" stop-color=\"#4F7C45\" stop-opacity=\"1\" /><stop offset=\"1.0\" stop-color=\"#BCDDB4\" stop-opacity=\"1\" /></linearGradient><linearGradient id=\"FunctionalExchangeSymbol-gradientreverse\" x1=\"0\" x2=\"1\" y1=\"0\" y2=\"1\"><stop offset=\"0.0\" stop-color=\"#BCDDB4\" stop-opacity=\"1\" /><stop offset=\"1.0\" stop-color=\"#4F7C45\" stop-opacity=\"1\" /></linearGradient><g stroke=\"#000\" stroke-width=\"2\"><path d=\"M 36.190065,5.0377724 V 24.962228 H 26.17482 V 5.0377724 Z\" fill=\"url(#FunctionalExchangeSymbol-gradientreverse)\" /><path d=\"m 14.372107,10 h 12.622435 c 0.926189,0.585267 1.836022,1.274509 2.268178,5 -0.208657,2.812473 -0.954601,4.503809 -2.273297,5 H 14.296948\" fill=\"#61c34c\" /><path d=\"M 3.9464908,5.0048246 V 24.995175 H 10.87518 C 12.433713,24.159139 15.158267,20.291241 15.313795,15 15.498614,11.583142 14.059659,6.6240913 10.87518,5.0048246 c -2.2179509,0 -4.5908341,0 -6.9286892,0 z\" fill=\"url(#FunctionalExchangeSymbol-gradient)\" /></g></symbol><symbol id=\"PortSymbol\" viewBox=\"0 0 10 10\"><path d=\"M0 0h10v10H0z\" /><path d=\"M5 1L1 9h8z\" fill=\"#fff\" /></symbol></defs><rect fill=\"#fff\" height=\"250\" stroke=\"none\" width=\"982\" x=\"2\" y=\"2\" /><g class=\"Box LogicalHumanActor context-00700568-c4d1-401d-846e-9be45d8aae96 context-052ea98a-247e-48cd-909f-c8c040bb4ebe context-0b2713e8-7255-40d8-bc2c-ea79bb8d504f context-0be307af-0f59-4531-9399-e8a1125829e0 context-16193167-a2cd-4dc4-a7b3-ab761302df6c context-1e345882-6d76-4d68-89c9-18c5b34dc321 context-239c3f19-e05e-4425-92b0-346a884311de context-35ed44a3-7d55-405b-9342-905c2d568ffc context-459dc000-2d77-4325-8df0-ebfa6fbbfaf9 context-4ee31a8f-432b-4cfd-bc9b-6f842d7863bc context-5c0ffed1-b7e7-4730-8ccd-b2e4a9777a39 context-7dfe0cb8-0bd7-4a3d-bbe3-a6fd0f2d0b6d context-82018c4f-7c58-4bb7-bcff-27957e35bb0a context-8d3b2451-d32f-41bc-ad2c-311f0477cea0 context-cbfe63ce-7a38-447e-86d8-4ce12863721e context-cce77c92-6359-41dd-a74a-9a06a222de81 context-d9da8a16-5867-4a29-a368-48a5d7f06e9b context-e0517e4d-f481-4d30-8d08-a2de64e06dd8 context-e902dcff-2176-4956-a2a4-f94a18a35e62 context-f84eb140-24e1-47b3-82a8-66d6b7199c93\" id=\"d9da8a16-5867-4a29-a368-48a5d7f06e9b\"><rect class=\"LogicalHumanActor\" fill=\"url(&quot;#CustomGradient_C3E6FF_96B1DA&quot;)\" height=\"84\" stroke=\"#4A4A97\" stroke-width=\"1\" width=\"130\" x=\"12.5\" y=\"158.5\" /><text class=\"LogicalHumanActor\" dominant-baseline=\"middle\" fill=\"#4A4A97\" text-anchor=\"middle\" x=\"28\" y=\"163\"><tspan x=\"87.5\" xml:space=\"preserve\" y=\"171.71428571428572\">Environment</tspan></text><use height=\"20\" width=\"20\" x=\"38.0\" xlink:href=\"#LogicalHumanActorSymbol\" y=\"161.71428571428572\" /></g><g class=\"Box LogicalFunction context-00700568-c4d1-401d-846e-9be45d8aae96 context-052ea98a-247e-48cd-909f-c8c040bb4ebe context-0b2713e8-7255-40d8-bc2c-ea79bb8d504f context-0be307af-0f59-4531-9399-e8a1125829e0 context-16193167-a2cd-4dc4-a7b3-ab761302df6c context-1e345882-6d76-4d68-89c9-18c5b34dc321 context-239c3f19-e05e-4425-92b0-346a884311de context-35ed44a3-7d55-405b-9342-905c2d568ffc context-459dc000-2d77-4325-8df0-ebfa6fbbfaf9 context-4ee31a8f-432b-4cfd-bc9b-6f842d7863bc context-5c0ffed1-b7e7-4730-8ccd-b2e4a9777a39 context-7dfe0cb8-0bd7-4a3d-bbe3-a6fd0f2d0b6d context-82018c4f-7c58-4bb7-bcff-27957e35bb0a context-8d3b2451-d32f-41bc-ad2c-311f0477cea0 context-cbfe63ce-7a38-447e-86d8-4ce12863721e context-cce77c92-6359-41dd-a74a-9a06a222de81 context-d9da8a16-5867-4a29-a368-48a5d7f06e9b context-e0517e4d-f481-4d30-8d08-a2de64e06dd8 context-e902dcff-2176-4956-a2a4-f94a18a35e62 context-f84eb140-24e1-47b3-82a8-66d6b7199c93\" id=\"82018c4f-7c58-4bb7-bcff-27957e35bb0a\"><rect class=\"LogicalFunction\" fill=\"#C5FFA6\" height=\"42\" stroke=\"#095C2E\" stroke-width=\"1\" width=\"104\" x=\"24.5\" y=\"189.5\" /><text class=\"LogicalFunction\" dominant-baseline=\"middle\" fill=\"#095C2E\" text-anchor=\"middle\" x=\"30\" y=\"201\"><tspan x=\"82.0\" xml:space=\"preserve\" y=\"209.85714285714286\">Supply O2</tspan></text><use height=\"20\" width=\"20\" x=\"39.0\" xlink:href=\"#LogicalFunctionSymbol\" y=\"199.85714285714286\" /></g><g class=\"Box LogicalComponent context-00700568-c4d1-401d-846e-9be45d8aae96 context-052ea98a-247e-48cd-909f-c8c040bb4ebe context-0b2713e8-7255-40d8-bc2c-ea79bb8d504f context-0be307af-0f59-4531-9399-e8a1125829e0 context-16193167-a2cd-4dc4-a7b3-ab761302df6c context-1e345882-6d76-4d68-89c9-18c5b34dc321 context-239c3f19-e05e-4425-92b0-346a884311de context-35ed44a3-7d55-405b-9342-905c2d568ffc context-459dc000-2d77-4325-8df0-ebfa6fbbfaf9 context-4ee31a8f-432b-4cfd-bc9b-6f842d7863bc context-5c0ffed1-b7e7-4730-8ccd-b2e4a9777a39 context-7dfe0cb8-0bd7-4a3d-bbe3-a6fd0f2d0b6d context-82018c4f-7c58-4bb7-bcff-27957e35bb0a context-8d3b2451-d32f-41bc-ad2c-311f0477cea0 context-cbfe63ce-7a38-447e-86d8-4ce12863721e context-cce77c92-6359-41dd-a74a-9a06a222de81 context-d9da8a16-5867-4a29-a368-48a5d7f06e9b context-e0517e4d-f481-4d30-8d08-a2de64e06dd8 context-e902dcff-2176-4956-a2a4-f94a18a35e62 context-f84eb140-24e1-47b3-82a8-66d6b7199c93\" id=\"5c0ffed1-b7e7-4730-8ccd-b2e4a9777a39\"><rect class=\"LogicalComponent\" fill=\"url(&quot;#CustomGradient_C3E6FF_96B1DA&quot;)\" height=\"222\" stroke=\"#4A4A97\" stroke-width=\"1\" width=\"737\" x=\"236.5\" y=\"12.5\" /><text class=\"LogicalComponent\" dominant-baseline=\"middle\" fill=\"#4A4A97\" text-anchor=\"middle\" x=\"521\" y=\"17\"><tspan x=\"615.5\" xml:space=\"preserve\" y=\"27.857142857142858\">Patient Ventilation System</tspan></text><use height=\"20\" width=\"20\" x=\"535.5\" xlink:href=\"#LogicalComponentSymbol\" y=\"17.857142857142858\" /></g><g class=\"Box LogicalComponent context-00700568-c4d1-401d-846e-9be45d8aae96 context-052ea98a-247e-48cd-909f-c8c040bb4ebe context-0b2713e8-7255-40d8-bc2c-ea79bb8d504f context-0be307af-0f59-4531-9399-e8a1125829e0 context-16193167-a2cd-4dc4-a7b3-ab761302df6c context-1e345882-6d76-4d68-89c9-18c5b34dc321 context-239c3f19-e05e-4425-92b0-346a884311de context-35ed44a3-7d55-405b-9342-905c2d568ffc context-459dc000-2d77-4325-8df0-ebfa6fbbfaf9 context-4ee31a8f-432b-4cfd-bc9b-6f842d7863bc context-5c0ffed1-b7e7-4730-8ccd-b2e4a9777a39 context-7dfe0cb8-0bd7-4a3d-bbe3-a6fd0f2d0b6d context-82018c4f-7c58-4bb7-bcff-27957e35bb0a context-8d3b2451-d32f-41bc-ad2c-311f0477cea0 context-cbfe63ce-7a38-447e-86d8-4ce12863721e context-cce77c92-6359-41dd-a74a-9a06a222de81 context-d9da8a16-5867-4a29-a368-48a5d7f06e9b context-e0517e4d-f481-4d30-8d08-a2de64e06dd8 context-e902dcff-2176-4956-a2a4-f94a18a35e62 context-f84eb140-24e1-47b3-82a8-66d6b7199c93\" id=\"7dfe0cb8-0bd7-4a3d-bbe3-a6fd0f2d0b6d\"><rect class=\"LogicalComponent\" fill=\"url(&quot;#CustomGradient_C3E6FF_96B1DA&quot;)\" height=\"176\" stroke=\"#4A4A97\" stroke-width=\"1\" width=\"708\" x=\"253.5\" y=\"47.5\" /><text class=\"LogicalComponent\" dominant-baseline=\"middle\" fill=\"#4A4A97\" text-anchor=\"middle\" x=\"567\" y=\"52\"><tspan x=\"618.0\" xml:space=\"preserve\" y=\"60.714285714285715\">Ventilator</tspan></text><use height=\"20\" width=\"20\" x=\"576.0\" xlink:href=\"#LogicalComponentSymbol\" y=\"50.714285714285715\" /></g><g class=\"Box LogicalComponent context-00700568-c4d1-401d-846e-9be45d8aae96 context-052ea98a-247e-48cd-909f-c8c040bb4ebe context-0b2713e8-7255-40d8-bc2c-ea79bb8d504f context-0be307af-0f59-4531-9399-e8a1125829e0 context-16193167-a2cd-4dc4-a7b3-ab761302df6c context-1e345882-6d76-4d68-89c9-18c5b34dc321 context-239c3f19-e05e-4425-92b0-346a884311de context-35ed44a3-7d55-405b-9342-905c2d568ffc context-459dc000-2d77-4325-8df0-ebfa6fbbfaf9 context-4ee31a8f-432b-4cfd-bc9b-6f842d7863bc context-5c0ffed1-b7e7-4730-8ccd-b2e4a9777a39 context-7dfe0cb8-0bd7-4a3d-bbe3-a6fd0f2d0b6d context-82018c4f-7c58-4bb7-bcff-27957e35bb0a context-8d3b2451-d32f-41bc-ad2c-311f0477cea0 context-cbfe63ce-7a38-447e-86d8-4ce12863721e context-cce77c92-6359-41dd-a74a-9a06a222de81 context-d9da8a16-5867-4a29-a368-48a5d7f06e9b context-e0517e4d-f481-4d30-8d08-a2de64e06dd8 context-e902dcff-2176-4956-a2a4-f94a18a35e62 context-f84eb140-24e1-47b3-82a8-66d6b7199c93\" id=\"e0517e4d-f481-4d30-8d08-a2de64e06dd8\"><rect class=\"LogicalComponent\" fill=\"url(&quot;#CustomGradient_C3E6FF_96B1DA&quot;)\" height=\"122\" stroke=\"#4A4A97\" stroke-width=\"1\" width=\"150\" x=\"265.5\" y=\"77.5\" /><text class=\"LogicalComponent\" dominant-baseline=\"middle\" fill=\"#4A4A97\" text-anchor=\"middle\" x=\"299\" y=\"82\"><tspan x=\"350.5\" xml:space=\"preserve\" y=\"90.71428571428572\">Controller</tspan></text><use height=\"20\" width=\"20\" x=\"308.0\" xlink:href=\"#LogicalComponentSymbol\" y=\"80.71428571428572\" /></g><g class=\"Box LogicalComponent context-00700568-c4d1-401d-846e-9be45d8aae96 context-052ea98a-247e-48cd-909f-c8c040bb4ebe context-0b2713e8-7255-40d8-bc2c-ea79bb8d504f context-0be307af-0f59-4531-9399-e8a1125829e0 context-16193167-a2cd-4dc4-a7b3-ab761302df6c context-1e345882-6d76-4d68-89c9-18c5b34dc321 context-239c3f19-e05e-4425-92b0-346a884311de context-35ed44a3-7d55-405b-9342-905c2d568ffc context-459dc000-2d77-4325-8df0-ebfa6fbbfaf9 context-4ee31a8f-432b-4cfd-bc9b-6f842d7863bc context-5c0ffed1-b7e7-4730-8ccd-b2e4a9777a39 context-7dfe0cb8-0bd7-4a3d-bbe3-a6fd0f2d0b6d context-82018c4f-7c58-4bb7-bcff-27957e35bb0a context-8d3b2451-d32f-41bc-ad2c-311f0477cea0 context-cbfe63ce-7a38-447e-86d8-4ce12863721e context-cce77c92-6359-41dd-a74a-9a06a222de81 context-d9da8a16-5867-4a29-a368-48a5d7f06e9b context-e0517e4d-f481-4d30-8d08-a2de64e06dd8 context-e902dcff-2176-4956-a2a4-f94a18a35e62 context-f84eb140-24e1-47b3-82a8-66d6b7199c93\" id=\"8d3b2451-d32f-41bc-ad2c-311f0477cea0\"><rect class=\"LogicalComponent\" fill=\"url(&quot;#CustomGradient_C3E6FF_96B1DA&quot;)\" height=\"80\" stroke=\"#4A4A97\" stroke-width=\"1\" width=\"121\" x=\"277.5\" y=\"108.5\" /><text class=\"LogicalComponent\" dominant-baseline=\"middle\" fill=\"#4A4A97\" text-anchor=\"middle\" x=\"293\" y=\"113\"><tspan x=\"348.0\" xml:space=\"preserve\" y=\"121.71428571428572\">Control SW</tspan></text><use height=\"20\" width=\"20\" x=\"302.5\" xlink:href=\"#LogicalComponentSymbol\" y=\"111.71428571428572\" /></g><g class=\"Box LogicalFunction context-00700568-c4d1-401d-846e-9be45d8aae96 context-052ea98a-247e-48cd-909f-c8c040bb4ebe context-0b2713e8-7255-40d8-bc2c-ea79bb8d504f context-0be307af-0f59-4531-9399-e8a1125829e0 context-16193167-a2cd-4dc4-a7b3-ab761302df6c context-1e345882-6d76-4d68-89c9-18c5b34dc321 context-239c3f19-e05e-4425-92b0-346a884311de context-35ed44a3-7d55-405b-9342-905c2d568ffc context-459dc000-2d77-4325-8df0-ebfa6fbbfaf9 context-4ee31a8f-432b-4cfd-bc9b-6f842d7863bc context-5c0ffed1-b7e7-4730-8ccd-b2e4a9777a39 context-7dfe0cb8-0bd7-4a3d-bbe3-a6fd0f2d0b6d context-82018c4f-7c58-4bb7-bcff-27957e35bb0a context-8d3b2451-d32f-41bc-ad2c-311f0477cea0 context-cbfe63ce-7a38-447e-86d8-4ce12863721e context-cce77c92-6359-41dd-a74a-9a06a222de81 context-d9da8a16-5867-4a29-a368-48a5d7f06e9b context-e0517e4d-f481-4d30-8d08-a2de64e06dd8 context-e902dcff-2176-4956-a2a4-f94a18a35e62 context-f84eb140-24e1-47b3-82a8-66d6b7199c93\" id=\"1e345882-6d76-4d68-89c9-18c5b34dc321\"><rect class=\"LogicalFunction\" fill=\"#C5FFA6\" height=\"37\" stroke=\"#095C2E\" stroke-width=\"1\" width=\"95\" x=\"289.5\" y=\"138.5\" /><text class=\"LogicalFunction\" dominant-baseline=\"middle\" fill=\"#095C2E\" text-anchor=\"middle\" x=\"293\" y=\"150\"><tspan x=\"343.0\" xml:space=\"preserve\" y=\"156.71428571428572\">Select O2</tspan></text><use height=\"20\" width=\"20\" x=\"302.0\" xlink:href=\"#LogicalFunctionSymbol\" y=\"146.71428571428572\" /></g><g class=\"Box LogicalComponent context-00700568-c4d1-401d-846e-9be45d8aae96 context-052ea98a-247e-48cd-909f-c8c040bb4ebe context-0b2713e8-7255-40d8-bc2c-ea79bb8d504f context-0be307af-0f59-4531-9399-e8a1125829e0 context-16193167-a2cd-4dc4-a7b3-ab761302df6c context-1e345882-6d76-4d68-89c9-18c5b34dc321 context-239c3f19-e05e-4425-92b0-346a884311de context-35ed44a3-7d55-405b-9342-905c2d568ffc context-459dc000-2d77-4325-8df0-ebfa6fbbfaf9 context-4ee31a8f-432b-4cfd-bc9b-6f842d7863bc context-5c0ffed1-b7e7-4730-8ccd-b2e4a9777a39 context-7dfe0cb8-0bd7-4a3d-bbe3-a6fd0f2d0b6d context-82018c4f-7c58-4bb7-bcff-27957e35bb0a context-8d3b2451-d32f-41bc-ad2c-311f0477cea0 context-cbfe63ce-7a38-447e-86d8-4ce12863721e context-cce77c92-6359-41dd-a74a-9a06a222de81 context-d9da8a16-5867-4a29-a368-48a5d7f06e9b context-e0517e4d-f481-4d30-8d08-a2de64e06dd8 context-e902dcff-2176-4956-a2a4-f94a18a35e62 context-f84eb140-24e1-47b3-82a8-66d6b7199c93\" id=\"16193167-a2cd-4dc4-a7b3-ab761302df6c\"><rect class=\"LogicalComponent\" fill=\"url(&quot;#CustomGradient_C3E6FF_96B1DA&quot;)\" height=\"84\" stroke=\"#4A4A97\" stroke-width=\"1\" width=\"109\" x=\"840.5\" y=\"114.5\" /><text class=\"LogicalComponent\" dominant-baseline=\"middle\" fill=\"#4A4A97\" text-anchor=\"middle\" x=\"858\" y=\"119\"><tspan x=\"905.0\" xml:space=\"preserve\" y=\"129.85714285714286\">Housing</tspan></text><use height=\"20\" width=\"20\" x=\"866.5\" xlink:href=\"#LogicalComponentSymbol\" y=\"119.85714285714286\" /></g><g class=\"Box LogicalFunction context-00700568-c4d1-401d-846e-9be45d8aae96 context-052ea98a-247e-48cd-909f-c8c040bb4ebe context-0b2713e8-7255-40d8-bc2c-ea79bb8d504f context-0be307af-0f59-4531-9399-e8a1125829e0 context-16193167-a2cd-4dc4-a7b3-ab761302df6c context-1e345882-6d76-4d68-89c9-18c5b34dc321 context-239c3f19-e05e-4425-92b0-346a884311de context-35ed44a3-7d55-405b-9342-905c2d568ffc context-459dc000-2d77-4325-8df0-ebfa6fbbfaf9 context-4ee31a8f-432b-4cfd-bc9b-6f842d7863bc context-5c0ffed1-b7e7-4730-8ccd-b2e4a9777a39 context-7dfe0cb8-0bd7-4a3d-bbe3-a6fd0f2d0b6d context-82018c4f-7c58-4bb7-bcff-27957e35bb0a context-8d3b2451-d32f-41bc-ad2c-311f0477cea0 context-cbfe63ce-7a38-447e-86d8-4ce12863721e context-cce77c92-6359-41dd-a74a-9a06a222de81 context-d9da8a16-5867-4a29-a368-48a5d7f06e9b context-e0517e4d-f481-4d30-8d08-a2de64e06dd8 context-e902dcff-2176-4956-a2a4-f94a18a35e62 context-f84eb140-24e1-47b3-82a8-66d6b7199c93\" id=\"052ea98a-247e-48cd-909f-c8c040bb4ebe\"><rect class=\"LogicalFunction\" fill=\"#C5FFA6\" height=\"37\" stroke=\"#095C2E\" stroke-width=\"1\" width=\"82\" x=\"854.5\" y=\"149.5\" /><text class=\"LogicalFunction\" dominant-baseline=\"middle\" fill=\"#095C2E\" text-anchor=\"middle\" x=\"861\" y=\"161\"><tspan x=\"909.5\" xml:space=\"preserve\" y=\"167.71428571428572\">Route 66</tspan></text><use height=\"20\" width=\"20\" x=\"869.5\" xlink:href=\"#LogicalFunctionSymbol\" y=\"157.71428571428572\" /></g><g class=\"Box LogicalComponent context-00700568-c4d1-401d-846e-9be45d8aae96 context-052ea98a-247e-48cd-909f-c8c040bb4ebe context-0b2713e8-7255-40d8-bc2c-ea79bb8d504f context-0be307af-0f59-4531-9399-e8a1125829e0 context-16193167-a2cd-4dc4-a7b3-ab761302df6c context-1e345882-6d76-4d68-89c9-18c5b34dc321 context-239c3f19-e05e-4425-92b0-346a884311de context-35ed44a3-7d55-405b-9342-905c2d568ffc context-459dc000-2d77-4325-8df0-ebfa6fbbfaf9 context-4ee31a8f-432b-4cfd-bc9b-6f842d7863bc context-5c0ffed1-b7e7-4730-8ccd-b2e4a9777a39 context-7dfe0cb8-0bd7-4a3d-bbe3-a6fd0f2d0b6d context-82018c4f-7c58-4bb7-bcff-27957e35bb0a context-8d3b2451-d32f-41bc-ad2c-311f0477cea0 context-cbfe63ce-7a38-447e-86d8-4ce12863721e context-cce77c92-6359-41dd-a74a-9a06a222de81 context-d9da8a16-5867-4a29-a368-48a5d7f06e9b context-e0517e4d-f481-4d30-8d08-a2de64e06dd8 context-e902dcff-2176-4956-a2a4-f94a18a35e62 context-f84eb140-24e1-47b3-82a8-66d6b7199c93\" id=\"459dc000-2d77-4325-8df0-ebfa6fbbfaf9\"><rect class=\"LogicalComponent\" fill=\"url(&quot;#CustomGradient_C3E6FF_96B1DA&quot;)\" height=\"98\" stroke=\"#4A4A97\" stroke-width=\"1\" width=\"167\" x=\"552.5\" y=\"109.5\" /><text class=\"LogicalComponent\" dominant-baseline=\"middle\" fill=\"#4A4A97\" text-anchor=\"middle\" x=\"598\" y=\"114\"><tspan x=\"646.0\" xml:space=\"preserve\" y=\"122.71428571428572\">O2 Valve</tspan></text><use height=\"20\" width=\"20\" x=\"606.5\" xlink:href=\"#LogicalComponentSymbol\" y=\"112.71428571428572\" /></g><g class=\"Box LogicalFunction context-00700568-c4d1-401d-846e-9be45d8aae96 context-052ea98a-247e-48cd-909f-c8c040bb4ebe context-0b2713e8-7255-40d8-bc2c-ea79bb8d504f context-0be307af-0f59-4531-9399-e8a1125829e0 context-16193167-a2cd-4dc4-a7b3-ab761302df6c context-1e345882-6d76-4d68-89c9-18c5b34dc321 context-239c3f19-e05e-4425-92b0-346a884311de context-35ed44a3-7d55-405b-9342-905c2d568ffc context-459dc000-2d77-4325-8df0-ebfa6fbbfaf9 context-4ee31a8f-432b-4cfd-bc9b-6f842d7863bc context-5c0ffed1-b7e7-4730-8ccd-b2e4a9777a39 context-7dfe0cb8-0bd7-4a3d-bbe3-a6fd0f2d0b6d context-82018c4f-7c58-4bb7-bcff-27957e35bb0a context-8d3b2451-d32f-41bc-ad2c-311f0477cea0 context-cbfe63ce-7a38-447e-86d8-4ce12863721e context-cce77c92-6359-41dd-a74a-9a06a222de81 context-d9da8a16-5867-4a29-a368-48a5d7f06e9b context-e0517e4d-f481-4d30-8d08-a2de64e06dd8 context-e902dcff-2176-4956-a2a4-f94a18a35e62 context-f84eb140-24e1-47b3-82a8-66d6b7199c93\" id=\"239c3f19-e05e-4425-92b0-346a884311de\"><rect class=\"LogicalFunction\" fill=\"#C5FFA6\" height=\"56\" stroke=\"#095C2E\" stroke-width=\"4\" width=\"139\" x=\"566.5\" y=\"140.5\" /><text class=\"LogicalFunction\" dominant-baseline=\"middle\" fill=\"#095C2E\" text-anchor=\"middle\" x=\"569\" y=\"161\"><tspan x=\"646.0\" xml:space=\"preserve\" y=\"167.71428571428572\">Control O2 to Valve</tspan></text><use height=\"20\" width=\"20\" x=\"581.5\" xlink:href=\"#LogicalFunctionSymbol\" y=\"157.71428571428572\" /></g><g class=\"Edge FunctionalExchange context-00700568-c4d1-401d-846e-9be45d8aae96 context-052ea98a-247e-48cd-909f-c8c040bb4ebe context-0b2713e8-7255-40d8-bc2c-ea79bb8d504f context-0be307af-0f59-4531-9399-e8a1125829e0 context-16193167-a2cd-4dc4-a7b3-ab761302df6c context-1e345882-6d76-4d68-89c9-18c5b34dc321 context-239c3f19-e05e-4425-92b0-346a884311de context-35ed44a3-7d55-405b-9342-905c2d568ffc context-459dc000-2d77-4325-8df0-ebfa6fbbfaf9 context-4ee31a8f-432b-4cfd-bc9b-6f842d7863bc context-5c0ffed1-b7e7-4730-8ccd-b2e4a9777a39 context-7dfe0cb8-0bd7-4a3d-bbe3-a6fd0f2d0b6d context-82018c4f-7c58-4bb7-bcff-27957e35bb0a context-8d3b2451-d32f-41bc-ad2c-311f0477cea0 context-cbfe63ce-7a38-447e-86d8-4ce12863721e context-cce77c92-6359-41dd-a74a-9a06a222de81 context-d9da8a16-5867-4a29-a368-48a5d7f06e9b context-e0517e4d-f481-4d30-8d08-a2de64e06dd8 context-e902dcff-2176-4956-a2a4-f94a18a35e62 context-f84eb140-24e1-47b3-82a8-66d6b7199c93\" id=\"4ee31a8f-432b-4cfd-bc9b-6f842d7863bc\"><path class=\"Edge\" d=\"M 130.5 209.5 537.5 209.5 537.5 179.5 564.5 179.5\" fill=\"none\" stroke=\"#095C2E\" stroke-width=\"2\" /><text class=\"Annotation\" dominant-baseline=\"middle\" fill=\"#095C2E\" text-anchor=\"middle\" x=\"156.5\" y=\"212\"><tspan x=\"200.5\" xml:space=\"preserve\" y=\"220.71428571428572\">O2</tspan></text><use height=\"20\" width=\"20\" x=\"173.5\" xlink:href=\"#FunctionalExchangeSymbol\" y=\"210.71428571428572\" /></g><g class=\"Edge FunctionalExchange context-00700568-c4d1-401d-846e-9be45d8aae96 context-052ea98a-247e-48cd-909f-c8c040bb4ebe context-0b2713e8-7255-40d8-bc2c-ea79bb8d504f context-0be307af-0f59-4531-9399-e8a1125829e0 context-16193167-a2cd-4dc4-a7b3-ab761302df6c context-1e345882-6d76-4d68-89c9-18c5b34dc321 context-239c3f19-e05e-4425-92b0-346a884311de context-35ed44a3-7d55-405b-9342-905c2d568ffc context-459dc000-2d77-4325-8df0-ebfa6fbbfaf9 context-4ee31a8f-432b-4cfd-bc9b-6f842d7863bc context-5c0ffed1-b7e7-4730-8ccd-b2e4a9777a39 context-7dfe0cb8-0bd7-4a3d-bbe3-a6fd0f2d0b6d context-82018c4f-7c58-4bb7-bcff-27957e35bb0a context-8d3b2451-d32f-41bc-ad2c-311f0477cea0 context-cbfe63ce-7a38-447e-86d8-4ce12863721e context-cce77c92-6359-41dd-a74a-9a06a222de81 context-d9da8a16-5867-4a29-a368-48a5d7f06e9b context-e0517e4d-f481-4d30-8d08-a2de64e06dd8 context-e902dcff-2176-4956-a2a4-f94a18a35e62 context-f84eb140-24e1-47b3-82a8-66d6b7199c93\" id=\"00700568-c4d1-401d-846e-9be45d8aae96\"><path class=\"Edge\" d=\"M 386.5 157.5 564.5 157.5\" fill=\"none\" stroke=\"#095C2E\" stroke-width=\"2\" /><text class=\"Annotation\" dominant-baseline=\"middle\" fill=\"#095C2E\" text-anchor=\"middle\" x=\"429.5\" y=\"140\"><tspan x=\"495.0\" xml:space=\"preserve\" y=\"148.71428571428572\">O2 Control</tspan></text><use height=\"20\" width=\"20\" x=\"449.5\" xlink:href=\"#FunctionalExchangeSymbol\" y=\"138.71428571428572\" /></g><g class=\"Edge FunctionalExchange context-00700568-c4d1-401d-846e-9be45d8aae96 context-052ea98a-247e-48cd-909f-c8c040bb4ebe context-0b2713e8-7255-40d8-bc2c-ea79bb8d504f context-0be307af-0f59-4531-9399-e8a1125829e0 context-16193167-a2cd-4dc4-a7b3-ab761302df6c context-1e345882-6d76-4d68-89c9-18c5b34dc321 context-239c3f19-e05e-4425-92b0-346a884311de context-35ed44a3-7d55-405b-9342-905c2d568ffc context-459dc000-2d77-4325-8df0-ebfa6fbbfaf9 context-4ee31a8f-432b-4cfd-bc9b-6f842d7863bc context-5c0ffed1-b7e7-4730-8ccd-b2e4a9777a39 context-7dfe0cb8-0bd7-4a3d-bbe3-a6fd0f2d0b6d context-82018c4f-7c58-4bb7-bcff-27957e35bb0a context-8d3b2451-d32f-41bc-ad2c-311f0477cea0 context-cbfe63ce-7a38-447e-86d8-4ce12863721e context-cce77c92-6359-41dd-a74a-9a06a222de81 context-d9da8a16-5867-4a29-a368-48a5d7f06e9b context-e0517e4d-f481-4d30-8d08-a2de64e06dd8 context-e902dcff-2176-4956-a2a4-f94a18a35e62 context-f84eb140-24e1-47b3-82a8-66d6b7199c93\" id=\"f84eb140-24e1-47b3-82a8-66d6b7199c93\"><path class=\"Edge\" d=\"M 707.5 168.5 852.5 168.5\" fill=\"none\" stroke=\"#095C2E\" stroke-width=\"2\" /><text class=\"Annotation\" dominant-baseline=\"middle\" fill=\"#095C2E\" text-anchor=\"middle\" x=\"733.5\" y=\"171\"><tspan x=\"791.5\" xml:space=\"preserve\" y=\"179.71428571428572\">Vent O2</tspan></text><use height=\"20\" width=\"20\" x=\"752.5\" xlink:href=\"#FunctionalExchangeSymbol\" y=\"169.71428571428572\" /></g><g class=\"Box FOP context-00700568-c4d1-401d-846e-9be45d8aae96 context-052ea98a-247e-48cd-909f-c8c040bb4ebe context-0b2713e8-7255-40d8-bc2c-ea79bb8d504f context-0be307af-0f59-4531-9399-e8a1125829e0 context-16193167-a2cd-4dc4-a7b3-ab761302df6c context-1e345882-6d76-4d68-89c9-18c5b34dc321 context-239c3f19-e05e-4425-92b0-346a884311de context-35ed44a3-7d55-405b-9342-905c2d568ffc context-459dc000-2d77-4325-8df0-ebfa6fbbfaf9 context-4ee31a8f-432b-4cfd-bc9b-6f842d7863bc context-5c0ffed1-b7e7-4730-8ccd-b2e4a9777a39 context-7dfe0cb8-0bd7-4a3d-bbe3-a6fd0f2d0b6d context-82018c4f-7c58-4bb7-bcff-27957e35bb0a context-8d3b2451-d32f-41bc-ad2c-311f0477cea0 context-cbfe63ce-7a38-447e-86d8-4ce12863721e context-cce77c92-6359-41dd-a74a-9a06a222de81 context-d9da8a16-5867-4a29-a368-48a5d7f06e9b context-e0517e4d-f481-4d30-8d08-a2de64e06dd8 context-e902dcff-2176-4956-a2a4-f94a18a35e62 context-f84eb140-24e1-47b3-82a8-66d6b7199c93\" id=\"cce77c92-6359-41dd-a74a-9a06a222de81\"><use class=\"FOP\" fill=\"#095C2E\" height=\"10\" stroke=\"#000000\" stroke-width=\"0\" transform=\"rotate(90 125.5 209.5)\" width=\"10\" x=\"120.5\" xlink:href=\"#PortSymbol\" y=\"204.5\" /></g><g class=\"Box FOP context-00700568-c4d1-401d-846e-9be45d8aae96 context-052ea98a-247e-48cd-909f-c8c040bb4ebe context-0b2713e8-7255-40d8-bc2c-ea79bb8d504f context-0be307af-0f59-4531-9399-e8a1125829e0 context-16193167-a2cd-4dc4-a7b3-ab761302df6c context-1e345882-6d76-4d68-89c9-18c5b34dc321 context-239c3f19-e05e-4425-92b0-346a884311de context-35ed44a3-7d55-405b-9342-905c2d568ffc context-459dc000-2d77-4325-8df0-ebfa6fbbfaf9 context-4ee31a8f-432b-4cfd-bc9b-6f842d7863bc context-5c0ffed1-b7e7-4730-8ccd-b2e4a9777a39 context-7dfe0cb8-0bd7-4a3d-bbe3-a6fd0f2d0b6d context-82018c4f-7c58-4bb7-bcff-27957e35bb0a context-8d3b2451-d32f-41bc-ad2c-311f0477cea0 context-cbfe63ce-7a38-447e-86d8-4ce12863721e context-cce77c92-6359-41dd-a74a-9a06a222de81 context-d9da8a16-5867-4a29-a368-48a5d7f06e9b context-e0517e4d-f481-4d30-8d08-a2de64e06dd8 context-e902dcff-2176-4956-a2a4-f94a18a35e62 context-f84eb140-24e1-47b3-82a8-66d6b7199c93\" id=\"e902dcff-2176-4956-a2a4-f94a18a35e62\"><use class=\"FOP\" fill=\"#095C2E\" height=\"10\" stroke=\"#000000\" stroke-width=\"0\" transform=\"rotate(90 381.5 157.5)\" width=\"10\" x=\"376.5\" xlink:href=\"#PortSymbol\" y=\"152.5\" /></g><g class=\"Box FIP context-00700568-c4d1-401d-846e-9be45d8aae96 context-052ea98a-247e-48cd-909f-c8c040bb4ebe context-0b2713e8-7255-40d8-bc2c-ea79bb8d504f context-0be307af-0f59-4531-9399-e8a1125829e0 context-16193167-a2cd-4dc4-a7b3-ab761302df6c context-1e345882-6d76-4d68-89c9-18c5b34dc321 context-239c3f19-e05e-4425-92b0-346a884311de context-35ed44a3-7d55-405b-9342-905c2d568ffc context-459dc000-2d77-4325-8df0-ebfa6fbbfaf9 context-4ee31a8f-432b-4cfd-bc9b-6f842d7863bc context-5c0ffed1-b7e7-4730-8ccd-b2e4a9777a39 context-7dfe0cb8-0bd7-4a3d-bbe3-a6fd0f2d0b6d context-82018c4f-7c58-4bb7-bcff-27957e35bb0a context-8d3b2451-d32f-41bc-ad2c-311f0477cea0 context-cbfe63ce-7a38-447e-86d8-4ce12863721e context-cce77c92-6359-41dd-a74a-9a06a222de81 context-d9da8a16-5867-4a29-a368-48a5d7f06e9b context-e0517e4d-f481-4d30-8d08-a2de64e06dd8 context-e902dcff-2176-4956-a2a4-f94a18a35e62 context-f84eb140-24e1-47b3-82a8-66d6b7199c93\" id=\"0b2713e8-7255-40d8-bc2c-ea79bb8d504f\"><use class=\"FIP\" fill=\"#E08503\" height=\"10\" stroke=\"#000000\" stroke-width=\"0\" transform=\"rotate(90 857.5 168.5)\" width=\"10\" x=\"852.5\" xlink:href=\"#PortSymbol\" y=\"163.5\" /></g><g class=\"Box FIP context-00700568-c4d1-401d-846e-9be45d8aae96 context-052ea98a-247e-48cd-909f-c8c040bb4ebe context-0b2713e8-7255-40d8-bc2c-ea79bb8d504f context-0be307af-0f59-4531-9399-e8a1125829e0 context-16193167-a2cd-4dc4-a7b3-ab761302df6c context-1e345882-6d76-4d68-89c9-18c5b34dc321 context-239c3f19-e05e-4425-92b0-346a884311de context-35ed44a3-7d55-405b-9342-905c2d568ffc context-459dc000-2d77-4325-8df0-ebfa6fbbfaf9 context-4ee31a8f-432b-4cfd-bc9b-6f842d7863bc context-5c0ffed1-b7e7-4730-8ccd-b2e4a9777a39 context-7dfe0cb8-0bd7-4a3d-bbe3-a6fd0f2d0b6d context-82018c4f-7c58-4bb7-bcff-27957e35bb0a context-8d3b2451-d32f-41bc-ad2c-311f0477cea0 context-cbfe63ce-7a38-447e-86d8-4ce12863721e context-cce77c92-6359-41dd-a74a-9a06a222de81 context-d9da8a16-5867-4a29-a368-48a5d7f06e9b context-e0517e4d-f481-4d30-8d08-a2de64e06dd8 context-e902dcff-2176-4956-a2a4-f94a18a35e62 context-f84eb140-24e1-47b3-82a8-66d6b7199c93\" id=\"0be307af-0f59-4531-9399-e8a1125829e0\"><use class=\"FIP\" fill=\"#E08503\" height=\"10\" stroke=\"#000000\" stroke-width=\"0\" transform=\"rotate(90 569.5 179.5)\" width=\"10\" x=\"564.5\" xlink:href=\"#PortSymbol\" y=\"174.5\" /></g><g class=\"Box FIP context-00700568-c4d1-401d-846e-9be45d8aae96 context-052ea98a-247e-48cd-909f-c8c040bb4ebe context-0b2713e8-7255-40d8-bc2c-ea79bb8d504f context-0be307af-0f59-4531-9399-e8a1125829e0 context-16193167-a2cd-4dc4-a7b3-ab761302df6c context-1e345882-6d76-4d68-89c9-18c5b34dc321 context-239c3f19-e05e-4425-92b0-346a884311de context-35ed44a3-7d55-405b-9342-905c2d568ffc context-459dc000-2d77-4325-8df0-ebfa6fbbfaf9 context-4ee31a8f-432b-4cfd-bc9b-6f842d7863bc context-5c0ffed1-b7e7-4730-8ccd-b2e4a9777a39 context-7dfe0cb8-0bd7-4a3d-bbe3-a6fd0f2d0b6d context-82018c4f-7c58-4bb7-bcff-27957e35bb0a context-8d3b2451-d32f-41bc-ad2c-311f0477cea0 context-cbfe63ce-7a38-447e-86d8-4ce12863721e context-cce77c92-6359-41dd-a74a-9a06a222de81 context-d9da8a16-5867-4a29-a368-48a5d7f06e9b context-e0517e4d-f481-4d30-8d08-a2de64e06dd8 context-e902dcff-2176-4956-a2a4-f94a18a35e62 context-f84eb140-24e1-47b3-82a8-66d6b7199c93\" id=\"35ed44a3-7d55-405b-9342-905c2d568ffc\"><use class=\"FIP\" fill=\"#E08503\" height=\"10\" stroke=\"#000000\" stroke-width=\"0\" transform=\"rotate(90 569.5 157.5)\" width=\"10\" x=\"564.5\" xlink:href=\"#PortSymbol\" y=\"152.5\" /></g><g class=\"Box FOP context-00700568-c4d1-401d-846e-9be45d8aae96 context-052ea98a-247e-48cd-909f-c8c040bb4ebe context-0b2713e8-7255-40d8-bc2c-ea79bb8d504f context-0be307af-0f59-4531-9399-e8a1125829e0 context-16193167-a2cd-4dc4-a7b3-ab761302df6c context-1e345882-6d76-4d68-89c9-18c5b34dc321 context-239c3f19-e05e-4425-92b0-346a884311de context-35ed44a3-7d55-405b-9342-905c2d568ffc context-459dc000-2d77-4325-8df0-ebfa6fbbfaf9 context-4ee31a8f-432b-4cfd-bc9b-6f842d7863bc context-5c0ffed1-b7e7-4730-8ccd-b2e4a9777a39 context-7dfe0cb8-0bd7-4a3d-bbe3-a6fd0f2d0b6d context-82018c4f-7c58-4bb7-bcff-27957e35bb0a context-8d3b2451-d32f-41bc-ad2c-311f0477cea0 context-cbfe63ce-7a38-447e-86d8-4ce12863721e context-cce77c92-6359-41dd-a74a-9a06a222de81 context-d9da8a16-5867-4a29-a368-48a5d7f06e9b context-e0517e4d-f481-4d30-8d08-a2de64e06dd8 context-e902dcff-2176-4956-a2a4-f94a18a35e62 context-f84eb140-24e1-47b3-82a8-66d6b7199c93\" id=\"cbfe63ce-7a38-447e-86d8-4ce12863721e\"><use class=\"FOP\" fill=\"#095C2E\" height=\"10\" stroke=\"#000000\" stroke-width=\"0\" transform=\"rotate(90 701.5 168.5)\" width=\"10\" x=\"696.5\" xlink:href=\"#PortSymbol\" y=\"163.5\" /></g></svg>"
      ],
      "text/plain": [
       "<Diagram 'Context of Control O2 to Valve'>"
      ]
     },
     "metadata": {},
     "output_type": "display_data"
    },
    {
     "data": {
      "text/markdown": [
       "The object:O2 Control cannot be displayed in a Context Diagram."
      ],
      "text/plain": [
       "<IPython.core.display.Markdown object>"
      ]
     },
     "metadata": {},
     "output_type": "display_data"
    }
   ],
   "source": [
    "for object in  selected_objects : \n",
    "    #print(object)\n",
    "    if object[\"type\"] == \"Diagram\" :\n",
    "        diagram = model.by_uuid(object[\"uuid\"])\n",
    "        #display(diagram)\n",
    "    else:\n",
    "        obj = model.by_uuid(object[\"uuid\"])\n",
    "        capellambse_helper.display_context_diagram(obj)"
   ]
  },
  {
   "cell_type": "markdown",
   "id": "a1ed6cc0-6c32-4f80-8a39-1dccfaca5eb5",
   "metadata": {},
   "source": [
    "## 💬 Predefined Prompts for Analysis\n",
    "\n",
    "### Purpose\n",
    "This cell contains predefined prompts for analyzing different types of ARCADIA elements, including components, functions, operational processes, and a default prompt. You can use these as-is or tailor them to suit your specific needs.\n",
    "\n",
    "\n",
    "### Instructions\n",
    "1. The appropriate prompt will be used for your analysis needs.\n",
    "2. Modify the prompt to include additional details or requirements, if necessary.\n",
    "\n",
    "### Notes\n",
    "- Predefined prompts are designed to guide analysis and ensure consistency.\n",
    "- Tailoring the prompts allows you to focus on specific aspects of the model relevant to your use case.\n",
    "\n",
    "> 💡 **Tip:** Save your tailored prompts for reuse in similar analyses or workflows.\n"
   ]
  },
  {
   "cell_type": "code",
   "execution_count": 6,
   "id": "24590371-907b-4e64-898f-99c5e9499460",
   "metadata": {},
   "outputs": [],
   "source": [
    "component_prompt = \"\"\"\n",
    "Please analyze the yaml file and display the result as .html and specifically provide insights on:\n",
    "1. The purpose of the component.\n",
    "2. Any components that make it up.\n",
    "3. A list of allocated functions and their potential roles.\n",
    "4. How the ports relate to the functions.\n",
    "5. Any traceabilty artifacts linked to the component and the artifacts url.\n",
    "6. Suggestions for improving the component description.\n",
    "7. Create a tabular table with columns for the component and its ports and the port interfaces, the interface souce and the interface target.\n",
    "8. List any property values and the related model element.\n",
    "9. A summary of any related state machines.\n",
    "\"\"\"\n",
    "function_prompt = \"\"\"\n",
    "Please analyze the yaml file and display the result as .html specifically provide insights on:\n",
    "1. The purpose of the function.\n",
    "2. Its owning component.\n",
    "4. Any ports relate to the functions.\n",
    "5. Any traceabilty artifacts linked to the component and the artifacts url.\n",
    "6. Suggestions for improving the function description.\n",
    "7. Create a tabular table with columns for the owning component, this function, its ports and the functional exchanges.\n",
    "\"\"\"\n",
    "activity_prompt = \"\"\"\n",
    "Please analyze the yaml file and display the result as .html specifically provide insights on:\n",
    "1. The purpose of the activity.\n",
    "2. Its actor or entiry.\n",
    "4. Any traceabilty artifacts linked to the component and the artifacts url.\n",
    "7. Suggestions for improving the activity description.\n",
    "7. Create a tabular table with columns for the owning entity or actor, this activity, its exchanges.\n",
    "\"\"\"\n",
    "functional_chain_prompt = \"\"\"\n",
    "Please analyze the YAML file and display the result as .html specifically provide insights on:\n",
    "1. The purpose of the functional chain.\n",
    "2. A table with first column being the owning component, the second being a function, last column being involved functional exchange, organized by involved functional exchanges.\n",
    "3. Any traceabilty artifacts linked to functional chain, functions, owning component and the traceability artifacts url.\n",
    "4. List any property values and the related model element.\n",
    "Please format the analysis in .html suitable for Juypter Notbook display operation.\n",
    "\"\"\"\n",
    "operational_process_prompt = \"\"\"\n",
    "Please analyze the YAML file and display the result as .html specifically provide insights on:\n",
    "1. The purpose of the operation process.\n",
    "2. A table with first column being the owning component, the second being a activities, last column being involved activity exchange, organized by involved activity exchanges.\n",
    "3. Any traceabilty artifacts linked to the operational process chain, activities, owning component and the traceability artifacts url.\n",
    "4. List any property values and the related model element.\n",
    "Please format the analysis in .html suitable for Juypter Notbook display operation.\n",
    "\"\"\"\n",
    "diagram_prompt = \"\"\"\n",
    "Please analyze the YAML file and display the result as .html specifically provide insights on:\n",
    "1. The purpose of the diagram based on its related nodes.\n",
    "2. Describe what the nodes represent in the ARCADIA method and what the diagram is describing.\n",
    "Please format the analysis in .html suitable for Juypter Notbook display operation.\n",
    "\"\"\"\n",
    "default_prompt = \"\"\"\n",
    "Please analyze the YAML file and display the result as .html specifically provide insights on:\n",
    "1. The purpose of the primary component listed first in the yaml file.=.\n",
    "2. List any property values and the related model element.\n",
    "Please format the analysis in .html suitable for Juypter Notbook display operation.\n",
    "\"\"\"\n",
    "\n"
   ]
  },
  {
   "cell_type": "markdown",
   "id": "4a3e82f3-a07b-404e-a230-7ebcf690e3e4",
   "metadata": {},
   "source": [
    "## ⚙️ Execute Default Prompts\n",
    "\n",
    "### Purpose\n",
    "This cell executes the **default prompts** defined for analyzing the model. These prompts are designed to provide general insights and overviews when specific object types or contexts are not explicitly defined.\n",
    "\n",
    "### What This Cell Does\n",
    "- Reads the structured input file (e.g., `capella_model.yaml`).\n",
    "- Uses the default prompts to query key details about the selected object(s).\n",
    "- Outputs the results directly in the notebook.\n",
    "\n",
    "### 🛠️ Instructions\n",
    "1. Ensure the `capella_model.yaml` file is generated and up-to-date.\n",
    "2. Run this cell to execute the default prompts.\n",
    "3. Review the output to verify the accuracy and relevance of the analysis.\n",
    "\n",
    "### 📝 Notes\n",
    "- The default prompts are **general-purpose** and may not capture all details specific to certain object types.\n",
    "- For more tailored analysis, consider using prompts designed for specific ARCADIA elements.\n",
    "\n",
    "> 💡 **Tip:** Use the default prompts as a starting point, then refine or modify them based on your analysis needs.\n"
   ]
  },
  {
   "cell_type": "code",
   "execution_count": null,
   "id": "8cf53953-bfae-4677-9f45-906e72aa93e1",
   "metadata": {},
   "outputs": [
    {
     "name": "stdout",
     "output_type": "stream",
     "text": [
      "Warning: When  cdn_resources is 'local' jupyter notebook has issues displaying graphics on chrome/safari. Use cdn_resources='in_line' or cdn_resources='remote' if you have issues viewing graphics in a notebook.\n",
      "✅ ChatGPTAnalyzer initialized\n",
      "🔐 API Key: Loaded from secrets\n",
      "🌐 Base URL: https://api.openai.com/v1\n",
      "🤖 Model: gpt-4o\n"
     ]
    },
    {
     "data": {
      "text/markdown": [
       "**Your prompt:** \n",
       "Please analyze the YAML file and display the result as .html specifically provide insights on:\n",
       "1. The purpose of the primary component listed first in the yaml file.=.\n",
       "2. List any property values and the related model element.\n",
       "Please format the analysis in .html suitable for Juypter Notbook display operation.\n",
       " Format the response in .html format."
      ],
      "text/plain": [
       "<IPython.core.display.Markdown object>"
      ]
     },
     "metadata": {},
     "output_type": "display_data"
    }
   ],
   "source": [
    "import os\n",
    "from openai import OpenAI\n",
    "from IPython.core.display import HTML\n",
    "from IPython.display import display, clear_output, Markdown\n",
    "#from capella_tools  import Open_AI_RAG_manager\n",
    "\n",
    "from capella_tools import Open_AI_RAG_manager\n",
    "#print(object)\n",
    "if object[\"type\"] ==  \"LogicalComponent\" or object[\"type\"] ==  \"SystemComponent\" or object[\"type\"] ==  \"PhysicalComponent-BEHAVIOR\"  or object[\"type\"] ==  \"PhysicalComponent-NODE\" :\n",
    "    prompt = component_prompt\n",
    "elif object[\"type\"] ==  \"FunctionalChain\" :  \n",
    "    prompt = functional_chain_prompt\n",
    "elif object[\"type\"] ==  \"OperationalProcess\":  \n",
    "    prompt = functional_chain_prompt\n",
    "elif object[\"type\"] ==  \"SystemFuntion\" or object[\"type\"] ==  \"LogicalFunction\" or object[\"type\"] ==  \"PhysicalFunction\":\n",
    "    prompt = function_prompt\n",
    "elif object[\"type\"] ==  \"OperationalActivity\" : \n",
    "    prompt = activity_prompt\n",
    "elif object[\"type\"] ==  \"Diagram\" : \n",
    "    prompt = diagram_prompt\n",
    "else :\n",
    "    prompt = default_prompt    \n",
    "\n",
    "\n",
    "# Step 1: Get YAML content\n",
    "yaml_content = yaml_handler.get_yaml_content()\n",
    "\n",
    "# Step 2: Invoke ChatGPT for analysis\n",
    "analyzer = Open_AI_RAG_manager.ChatGPTAnalyzer(yaml_content)\n",
    "analyzer.initial_prompt(prompt)\n",
    "chatgpt_response = analyzer.get_response()\n",
    "\n"
   ]
  },
  {
   "cell_type": "markdown",
   "id": "0ab07e0f-6cdb-4b16-9c5b-0acd3e7944cd",
   "metadata": {},
   "source": [
    "## ⚙️ Execute Followup Prompts\n",
    "\n",
    "### Purpose\n",
    "This cell executes the **follow up prompts** defined for analyzing the model. These prompts can be added by the note book user in addition to the default prompts\n",
    "\n",
    "### What This Cell Does\n",
    "- Use the structured input file (e.g., `capella_model.yaml`).\n",
    "- Excutes the prompt defined in the cell.\n",
    "- Outputs the results directly in the notebook.\n",
    "\n",
    "### 🛠️ Instructions\n",
    "1. Ensure the `capella_model.yaml` file is generated and up-to-date.\n",
    "2. Run this cell to execute the default prompts.\n",
    "3. Review the output to verify the accuracy and relevance of the analysis.\n",
    "\n",
    "> 💡 **Tip:** Modify the promt to your needs."
   ]
  },
  {
   "cell_type": "code",
   "execution_count": null,
   "id": "fab94bcf-5ea3-4d7d-89e8-508dcd603d71",
   "metadata": {},
   "outputs": [],
   "source": [
    "analyzer.follow_up_prompt(\"Generate a report that could be used to develop and FMEA based on the Braking functonal chain.\")\n",
    "chatgpt_response = analyzer.get_response()\n",
    "\n"
   ]
  },
  {
   "cell_type": "markdown",
   "id": "614ada9b-367c-4929-badf-e27c7170b825",
   "metadata": {},
   "source": [
    "## 💬 Launch Interactive Chat on Structured Input\n",
    "\n",
    "### Purpose\n",
    "This cell launches an interactive chat session based on the structured input file, leveraging ARCADIA and Polarion terminology to ensure the analysis remains consistent with the modeling context.\n",
    "\n",
    "### Key Features\n",
    "- Uses the generated structured input file (e.g., `capella_model.yaml`) to guide the conversation.\n",
    "- Supports ARCADIA terms such as **functions**, **components**, **activities**, and **exchanges**.\n",
    "- Incorporates Polarion terms like **workitem**, **requirement**, and **traceability** for seamless integration with requirements management workflows.\n",
    "\n",
    "### How It Works\n",
    "1. The structured input file provides context for the chat session.\n",
    "2. You can interactively query details about the model elements, relationships, and dependencies.\n",
    "3. Responses are tailored using ARCADIA and Polarion terminology.\n",
    "\n",
    "### Example Prompts\n",
    "- **For ARCADIA:**\n",
    "  ```plaintext\n",
    "  What are the dependencies and exchanges for the selected function in the Logical Architecture phase?\n",
    "\n",
    "- **For Polarion:**\n",
    "  ```plaintext\n",
    "  Provide the traceability matrix for the workitem linked to this component.\n",
    "  ```\n",
    "### 🛠️ Instructions\n",
    "1. Ensure the `capella_model.yaml` file has been generated and is up-to-date.\n",
    "2. Run this cell to start the interactive chat session.\n",
    "3. Enter your queries using **ARCADIA** or **Polarion** terms for accurate and relevant responses.\n",
    "\n",
    "### 📝 Notes\n",
    "- The interactive chat dynamically adapts to the content in the structured input file.\n",
    "- Use precise and contextual queries to ensure the best results and insights.\n",
    "\n",
    "> 💡 **Tip:** If you're unfamiliar with ARCADIA or Polarion terminology, consult the respective documentation or glossary for guidance.\n",
    "\n"
   ]
  },
  {
   "cell_type": "code",
   "execution_count": null,
   "id": "ac1d370a-fcf4-4084-9064-f5e11a03a641",
   "metadata": {
    "jupyter": {
     "source_hidden": true
    }
   },
   "outputs": [],
   "source": [
    "analyzer.interactive_chat()\n"
   ]
  },
  {
   "cell_type": "code",
   "execution_count": null,
   "id": "57dea895-123c-4c7f-b386-89510fcfcd9d",
   "metadata": {
    "jupyter": {
     "source_hidden": true
    }
   },
   "outputs": [],
   "source": [
    "print(\"Done\")"
   ]
  },
  {
   "cell_type": "markdown",
   "id": "8fb2484d-c283-416d-b5ae-03289fc2a8a1",
   "metadata": {},
   "source": [
    "# "
   ]
  },
  {
   "cell_type": "code",
   "execution_count": null,
   "id": "a4c59542-ddf7-4047-9007-2613a7f96589",
   "metadata": {
    "collapsed": true,
    "jupyter": {
     "outputs_hidden": true,
     "source_hidden": true
    }
   },
   "outputs": [],
   "source": []
  },
  {
   "cell_type": "code",
   "execution_count": null,
   "id": "edddd2fe-aeef-43a8-94d2-4b7cac1ce700",
   "metadata": {
    "collapsed": true,
    "jupyter": {
     "outputs_hidden": true,
     "source_hidden": true
    }
   },
   "outputs": [],
   "source": []
  }
 ],
 "metadata": {
  "kernelspec": {
   "display_name": "Python 3 (ipykernel)",
   "language": "python",
   "name": "python3"
  },
  "language_info": {
   "codemirror_mode": {
    "name": "ipython",
    "version": 3
   },
   "file_extension": ".py",
   "mimetype": "text/x-python",
   "name": "python",
   "nbconvert_exporter": "python",
   "pygments_lexer": "ipython3",
   "version": "3.12.9"
  }
 },
 "nbformat": 4,
 "nbformat_minor": 5
}
