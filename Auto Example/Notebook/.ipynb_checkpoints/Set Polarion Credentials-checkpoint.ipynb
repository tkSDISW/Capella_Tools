{
 "cells": [
  {
   "cell_type": "markdown",
   "id": "b453c90d-bb21-412f-8299-126e367419c1",
   "metadata": {},
   "source": [
    "# Securely Store OpenAI API Key\n",
    "\n",
    "This Jupyter Notebook prompts the user for their OpenAI API key, then securely stores it in a hidden directory (`~/.secrets`)."
   ]
  },
  {
   "cell_type": "code",
   "execution_count": 1,
   "id": "a00d9a03-cd8e-442d-a734-d3364cb5c6f8",
   "metadata": {},
   "outputs": [
    {
     "name": "stdin",
     "output_type": "stream",
     "text": [
      "Enter your Polarion Username:  tkomar\n",
      "Enter your Polarion Password:  ········\n"
     ]
    },
    {
     "name": "stdout",
     "output_type": "stream",
     "text": [
      "Polarion credentials saved securely to /root/.secrets/polarion_credentials.txt.\n"
     ]
    }
   ],
   "source": [
    "import polarion_authentication_manager\n",
    "\n",
    "auth_manager = polarion_authentication_manager.PolarionAuthManager()\n",
    "auth_manager.set_credentials()"
   ]
  },
  {
   "cell_type": "code",
   "execution_count": 3,
   "id": "34f9f277-e63f-4aff-9da0-d4e8af5492b4",
   "metadata": {},
   "outputs": [
    {
     "name": "stdout",
     "output_type": "stream",
     "text": [
      "Using credentials for: tkomar\n"
     ]
    }
   ],
   "source": [
    "\n",
    "\n",
    "\n",
    "\n",
    "try:\n",
    "    creds = auth_manager.get_credentials()\n",
    "    print(f\"Using credentials for: {creds['username']}\")\n",
    "except Exception as e:\n",
    "    print(f\"Error: {e}\")"
   ]
  },
  {
   "cell_type": "code",
   "execution_count": null,
   "id": "db977421-a5fe-4081-b95d-54f08af73cd6",
   "metadata": {},
   "outputs": [],
   "source": []
  },
  {
   "cell_type": "code",
   "execution_count": null,
   "id": "6b9f4b83-61da-40e5-80a4-71efda00714e",
   "metadata": {},
   "outputs": [],
   "source": []
  }
 ],
 "metadata": {
  "kernelspec": {
   "display_name": "Python 3 (ipykernel)",
   "language": "python",
   "name": "python3"
  },
  "language_info": {
   "codemirror_mode": {
    "name": "ipython",
    "version": 3
   },
   "file_extension": ".py",
   "mimetype": "text/x-python",
   "name": "python",
   "nbconvert_exporter": "python",
   "pygments_lexer": "ipython3",
   "version": "3.11.9"
  }
 },
 "nbformat": 4,
 "nbformat_minor": 5
}
